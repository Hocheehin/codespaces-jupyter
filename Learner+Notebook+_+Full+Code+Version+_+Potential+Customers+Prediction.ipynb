{
  "cells": [
    {
      "cell_type": "markdown",
      "id": "AT5OogJVFbwu",
      "metadata": {
        "id": "AT5OogJVFbwu"
      },
      "source": [
        "# ExtraaLearn Project\n",
        "\n",
        "## Context\n",
        "\n",
        "The EdTech industry has been surging in the past decade immensely, and according to a forecast, the Online Education market would be worth $286.62bn by 2023 with a compound annual growth rate (CAGR) of 10.26% from 2018 to 2023. The modern era of online education has enforced a lot in its growth and expansion beyond any limit. Due to having many dominant features like ease of information sharing, personalized learning experience, transparency of assessment, etc, it is now preferable to traditional education.\n",
        "\n",
        "In the present scenario due to the Covid-19, the online education sector has witnessed rapid growth and is attracting a lot of new customers. Due to this rapid growth, many new companies have emerged in this industry. With the availability and ease of use of digital marketing resources, companies can reach out to a wider audience with their offerings. The customers who show interest in these offerings are termed as leads. There are various sources of obtaining leads for Edtech companies, like\n",
        "\n",
        "* The customer interacts with the marketing front on social media or other online platforms.\n",
        "* The customer browses the website/app and downloads the brochure\n",
        "* The customer connects through emails for more information.\n",
        "\n",
        "The company then nurtures these leads and tries to convert them to paid customers. For this, the representative from the organization connects with the lead on call or through email to share further details.\n",
        "\n",
        "## Objective\n",
        "\n",
        "ExtraaLearn is an initial stage startup that offers programs on cutting-edge technologies to students and professionals to help them upskill/reskill. With a large number of leads being generated on a regular basis, one of the issues faced by ExtraaLearn is to identify which of the leads are more likely to convert so that they can allocate resources accordingly. You, as a data scientist at ExtraaLearn, have been provided the leads data to:\n",
        "* Analyze and build an ML model to help identify which leads are more likely to convert to paid customers,\n",
        "* Find the factors driving the lead conversion process\n",
        "* Create a profile of the leads which are likely to convert\n",
        "\n",
        "\n",
        "## Data Description\n",
        "\n",
        "The data contains the different attributes of leads and their interaction details with ExtraaLearn. The detailed data dictionary is given below.\n",
        "\n",
        "\n",
        "**Data Dictionary**\n",
        "* ID: ID of the lead\n",
        "* age: Age of the lead\n",
        "* current_occupation: Current occupation of the lead. Values include 'Professional','Unemployed',and 'Student'\n",
        "* first_interaction: How did the lead first interacted with ExtraaLearn. Values include 'Website', 'Mobile App'\n",
        "* profile_completed: What percentage of profile has been filled by the lead on the website/mobile app. Values include Low - (0-50%), Medium - (50-75%), High (75-100%)\n",
        "* website_visits: How many times has a lead visited the website\n",
        "* time_spent_on_website: Total time spent on the website\n",
        "* page_views_per_visit: Average number of pages on the website viewed during the visits.\n",
        "* last_activity: Last interaction between the lead and ExtraaLearn.\n",
        "    * Email Activity: Seeking for details about program through email, Representative shared information with lead like brochure of program , etc\n",
        "    * Phone Activity: Had a Phone Conversation with representative, Had conversation over SMS with representative, etc\n",
        "    * Website Activity: Interacted on live chat with representative, Updated profile on website, etc\n",
        "\n",
        "* print_media_type1: Flag indicating whether the lead had seen the ad of ExtraaLearn in the Newspaper.\n",
        "* print_media_type2: Flag indicating whether the lead had seen the ad of ExtraaLearn in the Magazine.\n",
        "* digital_media: Flag indicating whether the lead had seen the ad of ExtraaLearn on the digital platforms.\n",
        "* educational_channels: Flag indicating whether the lead had heard about ExtraaLearn in the education channels like online forums, discussion threads, educational websites, etc.\n",
        "* referral: Flag indicating whether the lead had heard about ExtraaLearn through reference.\n",
        "* status: Flag indicating whether the lead was converted to a paid customer or not."
      ]
    },
    {
      "cell_type": "markdown",
      "id": "dirty-island",
      "metadata": {
        "id": "dirty-island"
      },
      "source": [
        "## Importing necessary libraries and data"
      ]
    },
    {
      "cell_type": "code",
      "execution_count": null,
      "id": "2d7df308-93b8-476c-879b-1907832e7276",
      "metadata": {
        "id": "2d7df308-93b8-476c-879b-1907832e7276"
      },
      "outputs": [],
      "source": [
        "import pandas as pd\n",
        "import numpy as np\n",
        "import matplotlib.pyplot as plt\n",
        "import seaborn as sns\n",
        "\n",
        "# To scale the data using z-score\n",
        "from sklearn.preprocessing import StandardScaler\n",
        "\n",
        "from sklearn.model_selection import train_test_split\n",
        "\n",
        "# Algorithms to use\n",
        "from sklearn.linear_model import LogisticRegression\n",
        "\n",
        "from sklearn.svm import SVC\n",
        "\n",
        "from sklearn.tree import DecisionTreeClassifier\n",
        "\n",
        "from sklearn.ensemble import BaggingClassifier\n",
        "\n",
        "from sklearn.ensemble import RandomForestClassifier\n",
        "\n",
        "# Metrics to evaluate the model\n",
        "from sklearn import metrics\n",
        "from sklearn.metrics import confusion_matrix, classification_report, precision_recall_curve,recall_score\n",
        "from sklearn import tree\n",
        "\n",
        "\n",
        "# For tuning the model\n",
        "from sklearn.model_selection import GridSearchCV\n",
        "\n",
        "# To ignore warnings\n",
        "import warnings\n",
        "warnings.filterwarnings(\"ignore\")"
      ]
    },
    {
      "cell_type": "markdown",
      "id": "desperate-infection",
      "metadata": {
        "id": "desperate-infection"
      },
      "source": [
        "## Data Overview\n",
        "\n",
        "- Observations\n",
        "- Sanity checks"
      ]
    },
    {
      "cell_type": "markdown",
      "id": "alleged-spirituality",
      "metadata": {
        "id": "alleged-spirituality"
      },
      "source": [
        "## Data Preprocessing\n",
        "\n",
        "- Missing value treatment (if needed)\n",
        "- Feature engineering (if needed)\n",
        "- Outlier detection and treatment (if needed)\n",
        "- Preparing data for modeling\n",
        "- Any other preprocessing steps (if needed)"
      ]
    },
    {
      "cell_type": "markdown",
      "id": "36779c89-15bd-4568-a0cb-dfb882a5574f",
      "metadata": {
        "id": "36779c89-15bd-4568-a0cb-dfb882a5574f"
      },
      "source": [
        "## Processes of the Project\n",
        "1. Read the data\n",
        "2. Check for missing data and replace missing data by mean if necessary -done\n",
        "3. Check for outliers\n",
        "    - boxplot?\n",
        "    - histogram?\n",
        "    - remove outliner?\n",
        "4. Check for correlation\n",
        "    - heatmap\n",
        "5. Partition the data\n",
        "6. Linear Regression\n",
        "7. Decision Tree test\n",
        "8. Random Tree Test\n",
        "9. Conclusion"
      ]
    },
    {
      "cell_type": "markdown",
      "id": "fa5a3ca9-35af-46b1-af15-b0b061480092",
      "metadata": {
        "id": "fa5a3ca9-35af-46b1-af15-b0b061480092"
      },
      "source": [
        "## Loading of the dataset\n",
        "To read the data set from \"ExtraaLearn.csv\""
      ]
    },
    {
      "cell_type": "code",
      "execution_count": null,
      "id": "fc8294f2-2151-40d8-9fdc-ac603d2557f7",
      "metadata": {
        "id": "fc8294f2-2151-40d8-9fdc-ac603d2557f7"
      },
      "outputs": [],
      "source": [
        "# read the csv file and create a copy of it to avoid changes to the original data\n",
        "project_assignment = pd.read_csv('ExtraaLearn.csv')\n",
        "df = project_assignment.copy()"
      ]
    },
    {
      "cell_type": "code",
      "execution_count": null,
      "id": "a0862815-2d38-43a6-bf21-967631cdc986",
      "metadata": {
        "id": "a0862815-2d38-43a6-bf21-967631cdc986",
        "outputId": "226785d8-b6c8-433c-a81a-ae832cadf5e0"
      },
      "outputs": [
        {
          "data": {
            "text/html": [
              "<div>\n",
              "<style scoped>\n",
              "    .dataframe tbody tr th:only-of-type {\n",
              "        vertical-align: middle;\n",
              "    }\n",
              "\n",
              "    .dataframe tbody tr th {\n",
              "        vertical-align: top;\n",
              "    }\n",
              "\n",
              "    .dataframe thead th {\n",
              "        text-align: right;\n",
              "    }\n",
              "</style>\n",
              "<table border=\"1\" class=\"dataframe\">\n",
              "  <thead>\n",
              "    <tr style=\"text-align: right;\">\n",
              "      <th></th>\n",
              "      <th>ID</th>\n",
              "      <th>age</th>\n",
              "      <th>current_occupation</th>\n",
              "      <th>first_interaction</th>\n",
              "      <th>profile_completed</th>\n",
              "      <th>website_visits</th>\n",
              "      <th>time_spent_on_website</th>\n",
              "      <th>page_views_per_visit</th>\n",
              "      <th>last_activity</th>\n",
              "      <th>print_media_type1</th>\n",
              "      <th>print_media_type2</th>\n",
              "      <th>digital_media</th>\n",
              "      <th>educational_channels</th>\n",
              "      <th>referral</th>\n",
              "      <th>status</th>\n",
              "    </tr>\n",
              "  </thead>\n",
              "  <tbody>\n",
              "    <tr>\n",
              "      <th>0</th>\n",
              "      <td>EXT001</td>\n",
              "      <td>57</td>\n",
              "      <td>Unemployed</td>\n",
              "      <td>Website</td>\n",
              "      <td>High</td>\n",
              "      <td>7</td>\n",
              "      <td>1639</td>\n",
              "      <td>1.861</td>\n",
              "      <td>Website Activity</td>\n",
              "      <td>Yes</td>\n",
              "      <td>No</td>\n",
              "      <td>Yes</td>\n",
              "      <td>No</td>\n",
              "      <td>No</td>\n",
              "      <td>1</td>\n",
              "    </tr>\n",
              "    <tr>\n",
              "      <th>1</th>\n",
              "      <td>EXT002</td>\n",
              "      <td>56</td>\n",
              "      <td>Professional</td>\n",
              "      <td>Mobile App</td>\n",
              "      <td>Medium</td>\n",
              "      <td>2</td>\n",
              "      <td>83</td>\n",
              "      <td>0.320</td>\n",
              "      <td>Website Activity</td>\n",
              "      <td>No</td>\n",
              "      <td>No</td>\n",
              "      <td>No</td>\n",
              "      <td>Yes</td>\n",
              "      <td>No</td>\n",
              "      <td>0</td>\n",
              "    </tr>\n",
              "    <tr>\n",
              "      <th>2</th>\n",
              "      <td>EXT003</td>\n",
              "      <td>52</td>\n",
              "      <td>Professional</td>\n",
              "      <td>Website</td>\n",
              "      <td>Medium</td>\n",
              "      <td>3</td>\n",
              "      <td>330</td>\n",
              "      <td>0.074</td>\n",
              "      <td>Website Activity</td>\n",
              "      <td>No</td>\n",
              "      <td>No</td>\n",
              "      <td>Yes</td>\n",
              "      <td>No</td>\n",
              "      <td>No</td>\n",
              "      <td>0</td>\n",
              "    </tr>\n",
              "    <tr>\n",
              "      <th>3</th>\n",
              "      <td>EXT004</td>\n",
              "      <td>53</td>\n",
              "      <td>Unemployed</td>\n",
              "      <td>Website</td>\n",
              "      <td>High</td>\n",
              "      <td>4</td>\n",
              "      <td>464</td>\n",
              "      <td>2.057</td>\n",
              "      <td>Website Activity</td>\n",
              "      <td>No</td>\n",
              "      <td>No</td>\n",
              "      <td>No</td>\n",
              "      <td>No</td>\n",
              "      <td>No</td>\n",
              "      <td>1</td>\n",
              "    </tr>\n",
              "    <tr>\n",
              "      <th>4</th>\n",
              "      <td>EXT005</td>\n",
              "      <td>23</td>\n",
              "      <td>Student</td>\n",
              "      <td>Website</td>\n",
              "      <td>High</td>\n",
              "      <td>4</td>\n",
              "      <td>600</td>\n",
              "      <td>16.914</td>\n",
              "      <td>Email Activity</td>\n",
              "      <td>No</td>\n",
              "      <td>No</td>\n",
              "      <td>No</td>\n",
              "      <td>No</td>\n",
              "      <td>No</td>\n",
              "      <td>0</td>\n",
              "    </tr>\n",
              "  </tbody>\n",
              "</table>\n",
              "</div>"
            ],
            "text/plain": [
              "       ID  age current_occupation first_interaction profile_completed  \\\n",
              "0  EXT001   57         Unemployed           Website              High   \n",
              "1  EXT002   56       Professional        Mobile App            Medium   \n",
              "2  EXT003   52       Professional           Website            Medium   \n",
              "3  EXT004   53         Unemployed           Website              High   \n",
              "4  EXT005   23            Student           Website              High   \n",
              "\n",
              "   website_visits  time_spent_on_website  page_views_per_visit  \\\n",
              "0               7                   1639                 1.861   \n",
              "1               2                     83                 0.320   \n",
              "2               3                    330                 0.074   \n",
              "3               4                    464                 2.057   \n",
              "4               4                    600                16.914   \n",
              "\n",
              "      last_activity print_media_type1 print_media_type2 digital_media  \\\n",
              "0  Website Activity               Yes                No           Yes   \n",
              "1  Website Activity                No                No            No   \n",
              "2  Website Activity                No                No           Yes   \n",
              "3  Website Activity                No                No            No   \n",
              "4    Email Activity                No                No            No   \n",
              "\n",
              "  educational_channels referral  status  \n",
              "0                   No       No       1  \n",
              "1                  Yes       No       0  \n",
              "2                   No       No       0  \n",
              "3                   No       No       1  \n",
              "4                   No       No       0  "
            ]
          },
          "execution_count": 3,
          "metadata": {},
          "output_type": "execute_result"
        }
      ],
      "source": [
        "df.head()  ## To display the top 5 rows of the dataset"
      ]
    },
    {
      "cell_type": "code",
      "execution_count": null,
      "id": "0a1aebef-d22e-4199-a119-f39cb773df8a",
      "metadata": {
        "id": "0a1aebef-d22e-4199-a119-f39cb773df8a",
        "outputId": "8c7c41c5-e65c-4f64-9f09-6914c72f5c12"
      },
      "outputs": [
        {
          "data": {
            "text/html": [
              "<div>\n",
              "<style scoped>\n",
              "    .dataframe tbody tr th:only-of-type {\n",
              "        vertical-align: middle;\n",
              "    }\n",
              "\n",
              "    .dataframe tbody tr th {\n",
              "        vertical-align: top;\n",
              "    }\n",
              "\n",
              "    .dataframe thead th {\n",
              "        text-align: right;\n",
              "    }\n",
              "</style>\n",
              "<table border=\"1\" class=\"dataframe\">\n",
              "  <thead>\n",
              "    <tr style=\"text-align: right;\">\n",
              "      <th></th>\n",
              "      <th>ID</th>\n",
              "      <th>age</th>\n",
              "      <th>current_occupation</th>\n",
              "      <th>first_interaction</th>\n",
              "      <th>profile_completed</th>\n",
              "      <th>website_visits</th>\n",
              "      <th>time_spent_on_website</th>\n",
              "      <th>page_views_per_visit</th>\n",
              "      <th>last_activity</th>\n",
              "      <th>print_media_type1</th>\n",
              "      <th>print_media_type2</th>\n",
              "      <th>digital_media</th>\n",
              "      <th>educational_channels</th>\n",
              "      <th>referral</th>\n",
              "      <th>status</th>\n",
              "    </tr>\n",
              "  </thead>\n",
              "  <tbody>\n",
              "    <tr>\n",
              "      <th>4607</th>\n",
              "      <td>EXT4608</td>\n",
              "      <td>35</td>\n",
              "      <td>Unemployed</td>\n",
              "      <td>Mobile App</td>\n",
              "      <td>Medium</td>\n",
              "      <td>15</td>\n",
              "      <td>360</td>\n",
              "      <td>2.170</td>\n",
              "      <td>Phone Activity</td>\n",
              "      <td>No</td>\n",
              "      <td>No</td>\n",
              "      <td>No</td>\n",
              "      <td>Yes</td>\n",
              "      <td>No</td>\n",
              "      <td>0</td>\n",
              "    </tr>\n",
              "    <tr>\n",
              "      <th>4608</th>\n",
              "      <td>EXT4609</td>\n",
              "      <td>55</td>\n",
              "      <td>Professional</td>\n",
              "      <td>Mobile App</td>\n",
              "      <td>Medium</td>\n",
              "      <td>8</td>\n",
              "      <td>2327</td>\n",
              "      <td>5.393</td>\n",
              "      <td>Email Activity</td>\n",
              "      <td>No</td>\n",
              "      <td>No</td>\n",
              "      <td>No</td>\n",
              "      <td>No</td>\n",
              "      <td>No</td>\n",
              "      <td>0</td>\n",
              "    </tr>\n",
              "    <tr>\n",
              "      <th>4609</th>\n",
              "      <td>EXT4610</td>\n",
              "      <td>58</td>\n",
              "      <td>Professional</td>\n",
              "      <td>Website</td>\n",
              "      <td>High</td>\n",
              "      <td>2</td>\n",
              "      <td>212</td>\n",
              "      <td>2.692</td>\n",
              "      <td>Email Activity</td>\n",
              "      <td>No</td>\n",
              "      <td>No</td>\n",
              "      <td>No</td>\n",
              "      <td>No</td>\n",
              "      <td>No</td>\n",
              "      <td>1</td>\n",
              "    </tr>\n",
              "    <tr>\n",
              "      <th>4610</th>\n",
              "      <td>EXT4611</td>\n",
              "      <td>57</td>\n",
              "      <td>Professional</td>\n",
              "      <td>Mobile App</td>\n",
              "      <td>Medium</td>\n",
              "      <td>1</td>\n",
              "      <td>154</td>\n",
              "      <td>3.879</td>\n",
              "      <td>Website Activity</td>\n",
              "      <td>Yes</td>\n",
              "      <td>No</td>\n",
              "      <td>No</td>\n",
              "      <td>No</td>\n",
              "      <td>No</td>\n",
              "      <td>0</td>\n",
              "    </tr>\n",
              "    <tr>\n",
              "      <th>4611</th>\n",
              "      <td>EXT4612</td>\n",
              "      <td>55</td>\n",
              "      <td>Professional</td>\n",
              "      <td>Website</td>\n",
              "      <td>Medium</td>\n",
              "      <td>4</td>\n",
              "      <td>2290</td>\n",
              "      <td>2.075</td>\n",
              "      <td>Phone Activity</td>\n",
              "      <td>No</td>\n",
              "      <td>No</td>\n",
              "      <td>No</td>\n",
              "      <td>No</td>\n",
              "      <td>No</td>\n",
              "      <td>0</td>\n",
              "    </tr>\n",
              "  </tbody>\n",
              "</table>\n",
              "</div>"
            ],
            "text/plain": [
              "           ID  age current_occupation first_interaction profile_completed  \\\n",
              "4607  EXT4608   35         Unemployed        Mobile App            Medium   \n",
              "4608  EXT4609   55       Professional        Mobile App            Medium   \n",
              "4609  EXT4610   58       Professional           Website              High   \n",
              "4610  EXT4611   57       Professional        Mobile App            Medium   \n",
              "4611  EXT4612   55       Professional           Website            Medium   \n",
              "\n",
              "      website_visits  time_spent_on_website  page_views_per_visit  \\\n",
              "4607              15                    360                 2.170   \n",
              "4608               8                   2327                 5.393   \n",
              "4609               2                    212                 2.692   \n",
              "4610               1                    154                 3.879   \n",
              "4611               4                   2290                 2.075   \n",
              "\n",
              "         last_activity print_media_type1 print_media_type2 digital_media  \\\n",
              "4607    Phone Activity                No                No            No   \n",
              "4608    Email Activity                No                No            No   \n",
              "4609    Email Activity                No                No            No   \n",
              "4610  Website Activity               Yes                No            No   \n",
              "4611    Phone Activity                No                No            No   \n",
              "\n",
              "     educational_channels referral  status  \n",
              "4607                  Yes       No       0  \n",
              "4608                   No       No       0  \n",
              "4609                   No       No       1  \n",
              "4610                   No       No       0  \n",
              "4611                   No       No       0  "
            ]
          },
          "execution_count": 4,
          "metadata": {},
          "output_type": "execute_result"
        }
      ],
      "source": [
        "df.tail() ## to display the last 5 rows of the dataset"
      ]
    },
    {
      "cell_type": "code",
      "execution_count": null,
      "id": "5b1f9793-f531-40fa-aaa4-ebc7d7aaf475",
      "metadata": {
        "id": "5b1f9793-f531-40fa-aaa4-ebc7d7aaf475",
        "outputId": "da66a19e-9a67-4335-91aa-8017a60099aa"
      },
      "outputs": [
        {
          "data": {
            "text/plain": [
              "(4612, 15)"
            ]
          },
          "execution_count": 5,
          "metadata": {},
          "output_type": "execute_result"
        }
      ],
      "source": [
        "df.shape ## provide dimension on the size  of the data"
      ]
    },
    {
      "cell_type": "code",
      "execution_count": null,
      "id": "4eb2a705-c36d-408d-81a6-4c97edae9328",
      "metadata": {
        "id": "4eb2a705-c36d-408d-81a6-4c97edae9328",
        "outputId": "b357101b-9960-4c9d-d946-5f0d09276633"
      },
      "outputs": [
        {
          "name": "stdout",
          "output_type": "stream",
          "text": [
            "<class 'pandas.core.frame.DataFrame'>\n",
            "RangeIndex: 4612 entries, 0 to 4611\n",
            "Data columns (total 15 columns):\n",
            " #   Column                 Non-Null Count  Dtype  \n",
            "---  ------                 --------------  -----  \n",
            " 0   ID                     4612 non-null   object \n",
            " 1   age                    4612 non-null   int64  \n",
            " 2   current_occupation     4612 non-null   object \n",
            " 3   first_interaction      4612 non-null   object \n",
            " 4   profile_completed      4612 non-null   object \n",
            " 5   website_visits         4612 non-null   int64  \n",
            " 6   time_spent_on_website  4612 non-null   int64  \n",
            " 7   page_views_per_visit   4612 non-null   float64\n",
            " 8   last_activity          4612 non-null   object \n",
            " 9   print_media_type1      4612 non-null   object \n",
            " 10  print_media_type2      4612 non-null   object \n",
            " 11  digital_media          4612 non-null   object \n",
            " 12  educational_channels   4612 non-null   object \n",
            " 13  referral               4612 non-null   object \n",
            " 14  status                 4612 non-null   int64  \n",
            "dtypes: float64(1), int64(4), object(10)\n",
            "memory usage: 540.6+ KB\n"
          ]
        }
      ],
      "source": [
        "df.info() ## provode a quick overview of the data.frame"
      ]
    },
    {
      "cell_type": "code",
      "execution_count": null,
      "id": "eeb2b5ae-1f9e-4a1c-853d-8b809d2e95b4",
      "metadata": {
        "id": "eeb2b5ae-1f9e-4a1c-853d-8b809d2e95b4",
        "outputId": "b02a7924-2ce3-484d-97e7-ea4007e11188"
      },
      "outputs": [
        {
          "data": {
            "text/plain": [
              "ID                       4612\n",
              "age                        46\n",
              "current_occupation          3\n",
              "first_interaction           2\n",
              "profile_completed           3\n",
              "website_visits             27\n",
              "time_spent_on_website    1623\n",
              "page_views_per_visit     2414\n",
              "last_activity               3\n",
              "print_media_type1           2\n",
              "print_media_type2           2\n",
              "digital_media               2\n",
              "educational_channels        2\n",
              "referral                    2\n",
              "status                      2\n",
              "dtype: int64"
            ]
          },
          "execution_count": 7,
          "metadata": {},
          "output_type": "execute_result"
        }
      ],
      "source": [
        "# check the unique values in each columns\n",
        "df.nunique()"
      ]
    },
    {
      "cell_type": "code",
      "execution_count": null,
      "id": "4cc04769-9ac9-4336-a214-04bd8857fd44",
      "metadata": {
        "id": "4cc04769-9ac9-4336-a214-04bd8857fd44",
        "outputId": "0333e51a-d853-4636-b6f9-0dfbd0db0adf"
      },
      "outputs": [
        {
          "data": {
            "text/plain": [
              "ID                       0\n",
              "age                      0\n",
              "current_occupation       0\n",
              "first_interaction        0\n",
              "profile_completed        0\n",
              "website_visits           0\n",
              "time_spent_on_website    0\n",
              "page_views_per_visit     0\n",
              "last_activity            0\n",
              "print_media_type1        0\n",
              "print_media_type2        0\n",
              "digital_media            0\n",
              "educational_channels     0\n",
              "referral                 0\n",
              "status                   0\n",
              "dtype: int64"
            ]
          },
          "execution_count": 8,
          "metadata": {},
          "output_type": "execute_result"
        }
      ],
      "source": [
        "# to check for missing datas with the database\n",
        "df.isnull().sum()"
      ]
    },
    {
      "cell_type": "markdown",
      "id": "f52a9164-8e06-45db-a188-622dd6fb27fa",
      "metadata": {
        "id": "f52a9164-8e06-45db-a188-622dd6fb27fa"
      },
      "source": [
        "## Observation\n",
        "- The data set has **15 columns and 4612 observation**\n",
        "- There is no missing value within the data set\n",
        "- There is 4 columns of numerical - integer data and 1 column of numerical - float.\n",
        "- There is 10 columns of categorical data\n",
        "- **ID is an identifier** which is unique for each individual and we **can drop this column** as it would not add any value to our analysis.\n",
        "    -  **lets drop the column mentioned above** and define lists for numerical and categorical column to explore them separately\n"
      ]
    },
    {
      "cell_type": "code",
      "execution_count": null,
      "id": "20f9e6f7-60c7-4753-be61-9a320948448c",
      "metadata": {
        "id": "20f9e6f7-60c7-4753-be61-9a320948448c"
      },
      "outputs": [],
      "source": [
        "# to drop columns, the axis = 1, and axis = 0 if it is required to drop the rows\n",
        "df=df.drop(['ID'],axis=1)"
      ]
    },
    {
      "cell_type": "code",
      "execution_count": null,
      "id": "a6022e95-cdfa-4e2d-a4e0-fda51c27cf73",
      "metadata": {
        "id": "a6022e95-cdfa-4e2d-a4e0-fda51c27cf73"
      },
      "outputs": [],
      "source": [
        "# creating numerical columns\n",
        "col_num =['age','website_visits','time_spent_on_website','page_views_per_visit','status']"
      ]
    },
    {
      "cell_type": "code",
      "execution_count": null,
      "id": "bcf1cb64-5abe-4b31-ab64-c32f24c355dd",
      "metadata": {
        "id": "bcf1cb64-5abe-4b31-ab64-c32f24c355dd"
      },
      "outputs": [],
      "source": [
        "# creating categorical columns\n",
        "\n",
        "col_cat =['current_occupation','first_interaction','profile_completed','last_activity','print_media_type1'\n",
        "        ,'print_media_type2','digital_media','educational_channels','referral']"
      ]
    },
    {
      "cell_type": "markdown",
      "id": "6d38c07b-c228-49c5-85c9-54dd9b9b4626",
      "metadata": {
        "id": "6d38c07b-c228-49c5-85c9-54dd9b9b4626"
      },
      "source": [
        "### Exploratory Data Analysis (EDA)\n",
        "\n",
        "- EDA is an important part of any project involving data.\n",
        "- It is important to investigate and understand the data better before building a model with it.\n",
        "- A few questions have been mentioned below which will help you approach the analysis in the right manner and generate insights from the data.\n",
        "- A thorough analysis of the data, in addition to the questions mentioned below, should be done."
      ]
    },
    {
      "cell_type": "markdown",
      "id": "approved-brother",
      "metadata": {
        "id": "approved-brother"
      },
      "source": [
        "**Questions**\n",
        "1. Leads will have different expectations from the outcome of the course and the current occupation may play a key role in getting them to participate in the program. Find out how current occupation affects lead status.\n",
        "2. The company's first impression on the customer must have an impact. Do the first channels of interaction have an impact on the lead status?\n",
        "3. The company uses multiple modes to interact with prospects. Which way of interaction works best?\n",
        "4. The company gets leads from various channels such as print media, digital media, referrals, etc. Which of these channels have the highest lead conversion rate?\n",
        "5. People browsing the website or mobile application are generally required to create a profile by sharing their personal data before they can access additional information.Does having more details about a prospect increase the chances of conversion?"
      ]
    },
    {
      "cell_type": "code",
      "execution_count": null,
      "id": "0cd8ca4c-c210-4753-b5e6-4f2d78f20266",
      "metadata": {
        "id": "0cd8ca4c-c210-4753-b5e6-4f2d78f20266",
        "outputId": "bd119ec3-20df-4aab-9de0-cc0918322994"
      },
      "outputs": [
        {
          "data": {
            "text/html": [
              "<div>\n",
              "<style scoped>\n",
              "    .dataframe tbody tr th:only-of-type {\n",
              "        vertical-align: middle;\n",
              "    }\n",
              "\n",
              "    .dataframe tbody tr th {\n",
              "        vertical-align: top;\n",
              "    }\n",
              "\n",
              "    .dataframe thead th {\n",
              "        text-align: right;\n",
              "    }\n",
              "</style>\n",
              "<table border=\"1\" class=\"dataframe\">\n",
              "  <thead>\n",
              "    <tr style=\"text-align: right;\">\n",
              "      <th></th>\n",
              "      <th>count</th>\n",
              "      <th>mean</th>\n",
              "      <th>std</th>\n",
              "      <th>min</th>\n",
              "      <th>25%</th>\n",
              "      <th>50%</th>\n",
              "      <th>75%</th>\n",
              "      <th>max</th>\n",
              "    </tr>\n",
              "  </thead>\n",
              "  <tbody>\n",
              "    <tr>\n",
              "      <th>age</th>\n",
              "      <td>4612.0</td>\n",
              "      <td>46.201214</td>\n",
              "      <td>13.161454</td>\n",
              "      <td>18.0</td>\n",
              "      <td>36.00000</td>\n",
              "      <td>51.000</td>\n",
              "      <td>57.00000</td>\n",
              "      <td>63.000</td>\n",
              "    </tr>\n",
              "    <tr>\n",
              "      <th>website_visits</th>\n",
              "      <td>4612.0</td>\n",
              "      <td>3.566782</td>\n",
              "      <td>2.829134</td>\n",
              "      <td>0.0</td>\n",
              "      <td>2.00000</td>\n",
              "      <td>3.000</td>\n",
              "      <td>5.00000</td>\n",
              "      <td>30.000</td>\n",
              "    </tr>\n",
              "    <tr>\n",
              "      <th>time_spent_on_website</th>\n",
              "      <td>4612.0</td>\n",
              "      <td>724.011275</td>\n",
              "      <td>743.828683</td>\n",
              "      <td>0.0</td>\n",
              "      <td>148.75000</td>\n",
              "      <td>376.000</td>\n",
              "      <td>1336.75000</td>\n",
              "      <td>2537.000</td>\n",
              "    </tr>\n",
              "    <tr>\n",
              "      <th>page_views_per_visit</th>\n",
              "      <td>4612.0</td>\n",
              "      <td>3.026126</td>\n",
              "      <td>1.968125</td>\n",
              "      <td>0.0</td>\n",
              "      <td>2.07775</td>\n",
              "      <td>2.792</td>\n",
              "      <td>3.75625</td>\n",
              "      <td>18.434</td>\n",
              "    </tr>\n",
              "    <tr>\n",
              "      <th>status</th>\n",
              "      <td>4612.0</td>\n",
              "      <td>0.298569</td>\n",
              "      <td>0.457680</td>\n",
              "      <td>0.0</td>\n",
              "      <td>0.00000</td>\n",
              "      <td>0.000</td>\n",
              "      <td>1.00000</td>\n",
              "      <td>1.000</td>\n",
              "    </tr>\n",
              "  </tbody>\n",
              "</table>\n",
              "</div>"
            ],
            "text/plain": [
              "                        count        mean         std   min        25%  \\\n",
              "age                    4612.0   46.201214   13.161454  18.0   36.00000   \n",
              "website_visits         4612.0    3.566782    2.829134   0.0    2.00000   \n",
              "time_spent_on_website  4612.0  724.011275  743.828683   0.0  148.75000   \n",
              "page_views_per_visit   4612.0    3.026126    1.968125   0.0    2.07775   \n",
              "status                 4612.0    0.298569    0.457680   0.0    0.00000   \n",
              "\n",
              "                           50%         75%       max  \n",
              "age                     51.000    57.00000    63.000  \n",
              "website_visits           3.000     5.00000    30.000  \n",
              "time_spent_on_website  376.000  1336.75000  2537.000  \n",
              "page_views_per_visit     2.792     3.75625    18.434  \n",
              "status                   0.000     1.00000     1.000  "
            ]
          },
          "execution_count": 12,
          "metadata": {},
          "output_type": "execute_result"
        }
      ],
      "source": [
        "# statistical summary for col_num\n",
        "df[col_num].describe().T"
      ]
    },
    {
      "cell_type": "code",
      "execution_count": null,
      "id": "6b23643a-2a79-4ea9-94e7-14870b3aca5f",
      "metadata": {
        "id": "6b23643a-2a79-4ea9-94e7-14870b3aca5f",
        "outputId": "e8516301-e8de-4675-9d31-7bd74a3c94b1"
      },
      "outputs": [
        {
          "data": {
            "text/html": [
              "<div>\n",
              "<style scoped>\n",
              "    .dataframe tbody tr th:only-of-type {\n",
              "        vertical-align: middle;\n",
              "    }\n",
              "\n",
              "    .dataframe tbody tr th {\n",
              "        vertical-align: top;\n",
              "    }\n",
              "\n",
              "    .dataframe thead th {\n",
              "        text-align: right;\n",
              "    }\n",
              "</style>\n",
              "<table border=\"1\" class=\"dataframe\">\n",
              "  <thead>\n",
              "    <tr style=\"text-align: right;\">\n",
              "      <th></th>\n",
              "      <th>count</th>\n",
              "      <th>unique</th>\n",
              "      <th>top</th>\n",
              "      <th>freq</th>\n",
              "    </tr>\n",
              "  </thead>\n",
              "  <tbody>\n",
              "    <tr>\n",
              "      <th>current_occupation</th>\n",
              "      <td>4612</td>\n",
              "      <td>3</td>\n",
              "      <td>Professional</td>\n",
              "      <td>2616</td>\n",
              "    </tr>\n",
              "    <tr>\n",
              "      <th>first_interaction</th>\n",
              "      <td>4612</td>\n",
              "      <td>2</td>\n",
              "      <td>Website</td>\n",
              "      <td>2542</td>\n",
              "    </tr>\n",
              "    <tr>\n",
              "      <th>profile_completed</th>\n",
              "      <td>4612</td>\n",
              "      <td>3</td>\n",
              "      <td>High</td>\n",
              "      <td>2264</td>\n",
              "    </tr>\n",
              "    <tr>\n",
              "      <th>last_activity</th>\n",
              "      <td>4612</td>\n",
              "      <td>3</td>\n",
              "      <td>Email Activity</td>\n",
              "      <td>2278</td>\n",
              "    </tr>\n",
              "    <tr>\n",
              "      <th>print_media_type1</th>\n",
              "      <td>4612</td>\n",
              "      <td>2</td>\n",
              "      <td>No</td>\n",
              "      <td>4115</td>\n",
              "    </tr>\n",
              "    <tr>\n",
              "      <th>print_media_type2</th>\n",
              "      <td>4612</td>\n",
              "      <td>2</td>\n",
              "      <td>No</td>\n",
              "      <td>4379</td>\n",
              "    </tr>\n",
              "    <tr>\n",
              "      <th>digital_media</th>\n",
              "      <td>4612</td>\n",
              "      <td>2</td>\n",
              "      <td>No</td>\n",
              "      <td>4085</td>\n",
              "    </tr>\n",
              "    <tr>\n",
              "      <th>educational_channels</th>\n",
              "      <td>4612</td>\n",
              "      <td>2</td>\n",
              "      <td>No</td>\n",
              "      <td>3907</td>\n",
              "    </tr>\n",
              "    <tr>\n",
              "      <th>referral</th>\n",
              "      <td>4612</td>\n",
              "      <td>2</td>\n",
              "      <td>No</td>\n",
              "      <td>4519</td>\n",
              "    </tr>\n",
              "  </tbody>\n",
              "</table>\n",
              "</div>"
            ],
            "text/plain": [
              "                     count unique             top  freq\n",
              "current_occupation    4612      3    Professional  2616\n",
              "first_interaction     4612      2         Website  2542\n",
              "profile_completed     4612      3            High  2264\n",
              "last_activity         4612      3  Email Activity  2278\n",
              "print_media_type1     4612      2              No  4115\n",
              "print_media_type2     4612      2              No  4379\n",
              "digital_media         4612      2              No  4085\n",
              "educational_channels  4612      2              No  3907\n",
              "referral              4612      2              No  4519"
            ]
          },
          "execution_count": 13,
          "metadata": {},
          "output_type": "execute_result"
        }
      ],
      "source": [
        "# Statistical summary for col_cat\n",
        "df[col_cat].describe().T"
      ]
    },
    {
      "cell_type": "markdown",
      "id": "b85fdf5d-ecc5-4001-9515-e4339baeb7c7",
      "metadata": {
        "id": "b85fdf5d-ecc5-4001-9515-e4339baeb7c7"
      },
      "source": [
        "## Observation\n",
        "- The mean and median is very near to each other for age which is around 46 years and 51 years\n",
        "- Time spent on websites seems like there are possibilities of outliers as the mean and median are of great difference\n",
        "- The \"No\" answer is pretty on the print media type 1 & 2, digital media , educational channels and referral that majority are not converted to paid customers"
      ]
    },
    {
      "cell_type": "code",
      "execution_count": null,
      "id": "1d785f04-cf48-4db7-ab70-bb6cc122b17e",
      "metadata": {
        "id": "1d785f04-cf48-4db7-ab70-bb6cc122b17e",
        "outputId": "4b8cee51-7f44-4d02-eecb-3f48f7cb3096"
      },
      "outputs": [
        {
          "data": {
            "image/png": "[encoded data removed]",
            "text/plain": [
              "<Figure size 720x720 with 6 Axes>"
            ]
          },
          "metadata": {
            "needs_background": "light"
          },
          "output_type": "display_data"
        }
      ],
      "source": [
        "# plot a general histogram but no able to observe for any outliers\n",
        "df[col_num].hist(figsize = (10,10))\n",
        "plt.show()"
      ]
    },
    {
      "cell_type": "markdown",
      "id": "a82f6065-8cf1-4e0e-9d1c-86fbae1145de",
      "metadata": {
        "id": "a82f6065-8cf1-4e0e-9d1c-86fbae1145de"
      },
      "source": [
        "## Observation\n",
        "\n",
        "The barplot did not indicate all the histogram plotted follows the normal distribution"
      ]
    },
    {
      "cell_type": "markdown",
      "id": "fd8d0c1a-0dc9-47f1-ace5-26e33e0a036a",
      "metadata": {
        "id": "fd8d0c1a-0dc9-47f1-ace5-26e33e0a036a"
      },
      "source": [
        "## **Exploratory Data Analysis**"
      ]
    },
    {
      "cell_type": "markdown",
      "id": "755eef02-da7d-4a59-97d9-ffe73c11dad0",
      "metadata": {
        "id": "755eef02-da7d-4a59-97d9-ffe73c11dad0"
      },
      "source": [
        "### Plot Box Plot"
      ]
    },
    {
      "cell_type": "code",
      "execution_count": null,
      "id": "176aa497-80e3-41f7-9d81-ac49de0cb014",
      "metadata": {
        "colab": {
          "base_uri": "https://localhost:8080/",
          "height": 465
        },
        "id": "176aa497-80e3-41f7-9d81-ac49de0cb014",
        "outputId": "36b2abab-64e7-439d-dab8-c1bffc34aecc"
      },
      "outputs": [
        {
          "data": {
            "image/png": "[encoded data removed]",
            "text/plain": [
              "<Figure size 576x360 with 1 Axes>"
            ]
          },
          "metadata": {
            "needs_background": "light"
          },
          "output_type": "display_data"
        }
      ],
      "source": [
        "plt.figure(figsize=(8, 5))\n",
        "sns.boxplot(data = df, x = df[\"current_occupation\"], y = df[\"age\"])\n",
        "plt.show()"
      ]
    },
    {
      "cell_type": "markdown",
      "id": "9fb20657-674a-4daf-823c-81f27e1a1aa4",
      "metadata": {
        "id": "9fb20657-674a-4daf-823c-81f27e1a1aa4"
      },
      "source": [
        "### Observation from the box plot\n",
        "- Student has an mean age of approxiamte 20 years\n",
        "\n",
        "- Professional and unemployed have a mean age of about 55 years\n"
      ]
    },
    {
      "cell_type": "code",
      "execution_count": null,
      "id": "6f816e0e-e8f0-4b9d-98b2-76d4e8f9f288",
      "metadata": {
        "id": "6f816e0e-e8f0-4b9d-98b2-76d4e8f9f288",
        "outputId": "5fa47c38-bd2d-4971-edbd-0489de38872a"
      },
      "outputs": [
        {
          "data": {
            "image/png": "[encoded data removed]",
            "text/plain": [
              "<Figure size 576x360 with 1 Axes>"
            ]
          },
          "metadata": {
            "needs_background": "light"
          },
          "output_type": "display_data"
        }
      ],
      "source": [
        "plt.figure(figsize=(8,5))\n",
        "sns.boxplot(data=df,x=df[\"first_interaction\"],y=df[\"age\"])\n",
        "plt.show()"
      ]
    },
    {
      "cell_type": "markdown",
      "id": "fd80a1fc-5337-4846-a6bc-daa3b3a29fcb",
      "metadata": {
        "id": "fd80a1fc-5337-4846-a6bc-daa3b3a29fcb"
      },
      "source": [
        "## Observation\n",
        "\n",
        "first interaction for both website and Mobile app are approximate 52 years\n"
      ]
    },
    {
      "cell_type": "code",
      "execution_count": null,
      "id": "dbc7c627-4362-4d39-93cb-01b6b4318b3f",
      "metadata": {
        "colab": {
          "base_uri": "https://localhost:8080/",
          "height": 465
        },
        "id": "dbc7c627-4362-4d39-93cb-01b6b4318b3f",
        "outputId": "36b2abab-64e7-439d-dab8-c1bffc34aecc"
      },
      "outputs": [
        {
          "data": {
            "image/png": "[encoded data removed]",
            "text/plain": [
              "<Figure size 576x360 with 1 Axes>"
            ]
          },
          "metadata": {
            "needs_background": "light"
          },
          "output_type": "display_data"
        }
      ],
      "source": [
        "plt.figure(figsize=(8, 5))\n",
        "sns.boxplot(data = df, x = df[\"profile_completed\"], y = df[\"age\"])\n",
        "plt.show()"
      ]
    },
    {
      "cell_type": "markdown",
      "id": "255a3ac3-1875-4a6c-add8-d622dd0970a4",
      "metadata": {
        "id": "255a3ac3-1875-4a6c-add8-d622dd0970a4"
      },
      "source": [
        "## Observation\n",
        "\n",
        "- The approximate age of completing the profile is approxumate 52 years for High and Medium Profile\n",
        "- Low profile has a completion age of around 43 to 44 years\n"
      ]
    },
    {
      "cell_type": "code",
      "execution_count": null,
      "id": "70d515a7-4701-4c3b-94e8-c533d347ef93",
      "metadata": {
        "colab": {
          "base_uri": "https://localhost:8080/",
          "height": 465
        },
        "id": "70d515a7-4701-4c3b-94e8-c533d347ef93",
        "outputId": "36b2abab-64e7-439d-dab8-c1bffc34aecc"
      },
      "outputs": [
        {
          "data": {
            "image/png": "[encoded data removed]",
            "text/plain": [
              "<Figure size 576x360 with 1 Axes>"
            ]
          },
          "metadata": {
            "needs_background": "light"
          },
          "output_type": "display_data"
        }
      ],
      "source": [
        "plt.figure(figsize=(8, 5))\n",
        "sns.boxplot(data = df, x = df[\"last_activity\"], y = df[\"age\"])\n",
        "plt.show()"
      ]
    },
    {
      "cell_type": "markdown",
      "id": "31be4226-90c0-44bb-aa6c-8302aca1f0c9",
      "metadata": {
        "id": "31be4226-90c0-44bb-aa6c-8302aca1f0c9"
      },
      "source": [
        "## Observation\n",
        "the average age for website Activity, Email Activity and Phone Activity is approximate 52 years and 50 years old respectively"
      ]
    },
    {
      "cell_type": "code",
      "execution_count": null,
      "id": "d5ec91a6-9f18-4e61-a462-f031bf2df557",
      "metadata": {
        "colab": {
          "base_uri": "https://localhost:8080/",
          "height": 465
        },
        "id": "d5ec91a6-9f18-4e61-a462-f031bf2df557",
        "outputId": "36b2abab-64e7-439d-dab8-c1bffc34aecc"
      },
      "outputs": [
        {
          "data": {
            "image/png": "[encoded data removed]",
            "text/plain": [
              "<Figure size 576x360 with 1 Axes>"
            ]
          },
          "metadata": {
            "needs_background": "light"
          },
          "output_type": "display_data"
        }
      ],
      "source": [
        "plt.figure(figsize=(8, 5))\n",
        "sns.boxplot(data = df, x = df[\"print_media_type1\"], y = df[\"age\"])\n",
        "plt.show()"
      ]
    },
    {
      "cell_type": "code",
      "execution_count": null,
      "id": "015f03fd-0ec9-42f2-ae2a-76880cef592c",
      "metadata": {
        "colab": {
          "base_uri": "https://localhost:8080/",
          "height": 465
        },
        "id": "015f03fd-0ec9-42f2-ae2a-76880cef592c",
        "outputId": "36b2abab-64e7-439d-dab8-c1bffc34aecc"
      },
      "outputs": [
        {
          "data": {
            "image/png": "[encoded data removed]",
            "text/plain": [
              "<Figure size 576x360 with 1 Axes>"
            ]
          },
          "metadata": {
            "needs_background": "light"
          },
          "output_type": "display_data"
        }
      ],
      "source": [
        "plt.figure(figsize=(8, 5))\n",
        "sns.boxplot(data = df, x = df[\"print_media_type2\"], y = df[\"age\"])\n",
        "plt.show()"
      ]
    },
    {
      "cell_type": "code",
      "execution_count": null,
      "id": "e9711ed6-7509-436e-86c1-6b81b775e82d",
      "metadata": {
        "colab": {
          "base_uri": "https://localhost:8080/",
          "height": 465
        },
        "id": "e9711ed6-7509-436e-86c1-6b81b775e82d",
        "outputId": "36b2abab-64e7-439d-dab8-c1bffc34aecc"
      },
      "outputs": [
        {
          "data": {
            "image/png": "[encoded data removed]",
            "text/plain": [
              "<Figure size 576x360 with 1 Axes>"
            ]
          },
          "metadata": {
            "needs_background": "light"
          },
          "output_type": "display_data"
        }
      ],
      "source": [
        "plt.figure(figsize=(8, 5))\n",
        "sns.boxplot(data = df, x = df[\"digital_media\"], y = df[\"age\"])\n",
        "plt.show()"
      ]
    },
    {
      "cell_type": "code",
      "execution_count": null,
      "id": "4ed7fdc5-d270-41ba-8f2b-d5b40a5128a2",
      "metadata": {
        "colab": {
          "base_uri": "https://localhost:8080/",
          "height": 465
        },
        "id": "4ed7fdc5-d270-41ba-8f2b-d5b40a5128a2",
        "outputId": "36b2abab-64e7-439d-dab8-c1bffc34aecc"
      },
      "outputs": [
        {
          "data": {
            "image/png": "[encoded data removed]",
            "text/plain": [
              "<Figure size 576x360 with 1 Axes>"
            ]
          },
          "metadata": {
            "needs_background": "light"
          },
          "output_type": "display_data"
        }
      ],
      "source": [
        "plt.figure(figsize=(8, 5))\n",
        "sns.boxplot(data = df, x = df[\"educational_channels\"], y = df[\"age\"])\n",
        "plt.show()"
      ]
    },
    {
      "cell_type": "code",
      "execution_count": null,
      "id": "4e390f1e-c6d7-4c7e-a21d-dd949e084bee",
      "metadata": {
        "colab": {
          "base_uri": "https://localhost:8080/",
          "height": 465
        },
        "id": "4e390f1e-c6d7-4c7e-a21d-dd949e084bee",
        "outputId": "36b2abab-64e7-439d-dab8-c1bffc34aecc"
      },
      "outputs": [
        {
          "data": {
            "image/png": "[encoded data removed]",
            "text/plain": [
              "<Figure size 576x360 with 1 Axes>"
            ]
          },
          "metadata": {
            "needs_background": "light"
          },
          "output_type": "display_data"
        }
      ],
      "source": [
        "plt.figure(figsize=(8, 5))\n",
        "sns.boxplot(data = df, x = df[\"referral\"], y = df[\"age\"])\n",
        "plt.show()"
      ]
    },
    {
      "cell_type": "markdown",
      "id": "99bc778a-0e32-4f17-b125-d109f14fa6fd",
      "metadata": {
        "id": "99bc778a-0e32-4f17-b125-d109f14fa6fd"
      },
      "source": [
        "## Observation\n",
        "\n",
        "- the print_media, digital media and educational channels show an approximate age of 52 years\n"
      ]
    },
    {
      "cell_type": "markdown",
      "id": "c706226b-f427-46fc-b7bc-a22b42ced4d7",
      "metadata": {
        "id": "c706226b-f427-46fc-b7bc-a22b42ced4d7"
      },
      "source": [
        "### **Check the count of each unique category in each of the categorical variables.**"
      ]
    },
    {
      "cell_type": "code",
      "execution_count": null,
      "id": "e6949c90-8cea-4fc1-9428-9256f4331020",
      "metadata": {
        "colab": {
          "base_uri": "https://localhost:8080/"
        },
        "id": "e6949c90-8cea-4fc1-9428-9256f4331020",
        "outputId": "5cac5f1c-2398-4c03-fa7c-784d46d93464"
      },
      "outputs": [
        {
          "name": "stdout",
          "output_type": "stream",
          "text": [
            "Professional    2616\n",
            "Unemployed      1441\n",
            "Student          555\n",
            "Name: current_occupation, dtype: int64\n",
            "--------------------------------------------------\n",
            "Website       2542\n",
            "Mobile App    2070\n",
            "Name: first_interaction, dtype: int64\n",
            "--------------------------------------------------\n",
            "High      2264\n",
            "Medium    2241\n",
            "Low        107\n",
            "Name: profile_completed, dtype: int64\n",
            "--------------------------------------------------\n",
            "Email Activity      2278\n",
            "Phone Activity      1234\n",
            "Website Activity    1100\n",
            "Name: last_activity, dtype: int64\n",
            "--------------------------------------------------\n",
            "No     4115\n",
            "Yes     497\n",
            "Name: print_media_type1, dtype: int64\n",
            "--------------------------------------------------\n",
            "No     4379\n",
            "Yes     233\n",
            "Name: print_media_type2, dtype: int64\n",
            "--------------------------------------------------\n",
            "No     4085\n",
            "Yes     527\n",
            "Name: digital_media, dtype: int64\n",
            "--------------------------------------------------\n",
            "No     3907\n",
            "Yes     705\n",
            "Name: educational_channels, dtype: int64\n",
            "--------------------------------------------------\n",
            "No     4519\n",
            "Yes      93\n",
            "Name: referral, dtype: int64\n",
            "--------------------------------------------------\n"
          ]
        }
      ],
      "source": [
        "# Making a list of all catrgorical variables\n",
        "cat_col = list(df.select_dtypes(\"object\").columns)\n",
        "\n",
        "# Printing number of count of each unique value in each column\n",
        "for column in cat_col:\n",
        "    print(df[column].value_counts())\n",
        "    print(\"-\" * 50)"
      ]
    },
    {
      "cell_type": "code",
      "execution_count": null,
      "id": "be4d8d3c-e33b-4fbf-a5fd-d2ac02fac23e",
      "metadata": {
        "id": "be4d8d3c-e33b-4fbf-a5fd-d2ac02fac23e",
        "outputId": "f515a716-8ba1-4ada-91ff-af589ca74f48"
      },
      "outputs": [
        {
          "name": "stdout",
          "output_type": "stream",
          "text": [
            "Professional    56.721596\n",
            "Unemployed      31.244579\n",
            "Student         12.033825\n",
            "Name: current_occupation, dtype: float64\n",
            "\n",
            "**************************************************\n",
            "Website       55.117086\n",
            "Mobile App    44.882914\n",
            "Name: first_interaction, dtype: float64\n",
            "\n",
            "**************************************************\n",
            "High      49.089332\n",
            "Medium    48.590633\n",
            "Low        2.320035\n",
            "Name: profile_completed, dtype: float64\n",
            "\n",
            "**************************************************\n",
            "Email Activity      49.392888\n",
            "Phone Activity      26.756288\n",
            "Website Activity    23.850824\n",
            "Name: last_activity, dtype: float64\n",
            "\n",
            "**************************************************\n",
            "No     89.223764\n",
            "Yes    10.776236\n",
            "Name: print_media_type1, dtype: float64\n",
            "\n",
            "**************************************************\n",
            "No     94.947962\n",
            "Yes     5.052038\n",
            "Name: print_media_type2, dtype: float64\n",
            "\n",
            "**************************************************\n",
            "No     88.573287\n",
            "Yes    11.426713\n",
            "Name: digital_media, dtype: float64\n",
            "\n",
            "**************************************************\n",
            "No     84.71379\n",
            "Yes    15.28621\n",
            "Name: educational_channels, dtype: float64\n",
            "\n",
            "**************************************************\n",
            "No     97.983521\n",
            "Yes     2.016479\n",
            "Name: referral, dtype: float64\n",
            "\n",
            "**************************************************\n"
          ]
        }
      ],
      "source": [
        "# Printing the % sub categories of each category\n",
        "\n",
        "for i in col_cat:\n",
        "    print(df[i].value_counts(normalize=True)*100)\n",
        "    print()\n",
        "    print('*'*50)"
      ]
    },
    {
      "cell_type": "markdown",
      "id": "6d815d50-7b2d-47c7-ad50-0a182c179efe",
      "metadata": {
        "id": "6d815d50-7b2d-47c7-ad50-0a182c179efe"
      },
      "source": [
        "### Observation\n",
        "\n",
        "- There is about 56% of professional browsing the web Extraalearn\n",
        "- 55% of first interaction with Extraalearn is via the website\n",
        "- 49% preferred goes along with email activity compare to phone and website activity\n",
        "- In general, approximate of 90% did not comes aware of Extraalearn via the print media channels, educational channels or via the referral methods\n"
      ]
    },
    {
      "cell_type": "code",
      "execution_count": null,
      "id": "e47e12a1-d9dc-4b19-8632-745c8c13c581",
      "metadata": {
        "id": "e47e12a1-d9dc-4b19-8632-745c8c13c581",
        "outputId": "8b085dcd-a0b6-4ca6-f411-f20226aee8ef"
      },
      "outputs": [
        {
          "data": {
            "text/html": [
              "<div>\n",
              "<style scoped>\n",
              "    .dataframe tbody tr th:only-of-type {\n",
              "        vertical-align: middle;\n",
              "    }\n",
              "\n",
              "    .dataframe tbody tr th {\n",
              "        vertical-align: top;\n",
              "    }\n",
              "\n",
              "    .dataframe thead th {\n",
              "        text-align: right;\n",
              "    }\n",
              "</style>\n",
              "<table border=\"1\" class=\"dataframe\">\n",
              "  <thead>\n",
              "    <tr style=\"text-align: right;\">\n",
              "      <th>status</th>\n",
              "      <th>0</th>\n",
              "      <th>1</th>\n",
              "    </tr>\n",
              "    <tr>\n",
              "      <th>current_occupation</th>\n",
              "      <th></th>\n",
              "      <th></th>\n",
              "    </tr>\n",
              "  </thead>\n",
              "  <tbody>\n",
              "    <tr>\n",
              "      <th>Professional</th>\n",
              "      <td>64.487768</td>\n",
              "      <td>35.512232</td>\n",
              "    </tr>\n",
              "    <tr>\n",
              "      <th>Student</th>\n",
              "      <td>88.288288</td>\n",
              "      <td>11.711712</td>\n",
              "    </tr>\n",
              "    <tr>\n",
              "      <th>Unemployed</th>\n",
              "      <td>73.421235</td>\n",
              "      <td>26.578765</td>\n",
              "    </tr>\n",
              "  </tbody>\n",
              "</table>\n",
              "</div>"
            ],
            "text/plain": [
              "status                      0          1\n",
              "current_occupation                      \n",
              "Professional        64.487768  35.512232\n",
              "Student             88.288288  11.711712\n",
              "Unemployed          73.421235  26.578765"
            ]
          },
          "execution_count": 29,
          "metadata": {},
          "output_type": "execute_result"
        }
      ],
      "source": [
        "pd.crosstab(df['current_occupation'],df['status'],normalize='index')*100"
      ]
    },
    {
      "cell_type": "markdown",
      "id": "bba14fcf-a60e-4c43-ba82-d0cb0f47103d",
      "metadata": {
        "id": "bba14fcf-a60e-4c43-ba82-d0cb0f47103d"
      },
      "source": [
        "## Observation\n",
        "- about 35% of the professional will be converted to paid customers compare to students which they have only 11 %"
      ]
    },
    {
      "cell_type": "code",
      "execution_count": null,
      "id": "5b748165-11fb-4a41-b73e-76e900004a3e",
      "metadata": {
        "id": "5b748165-11fb-4a41-b73e-76e900004a3e",
        "outputId": "45676556-486b-485b-e5af-10cd8b392c43"
      },
      "outputs": [
        {
          "data": {
            "text/html": [
              "<div>\n",
              "<style scoped>\n",
              "    .dataframe tbody tr th:only-of-type {\n",
              "        vertical-align: middle;\n",
              "    }\n",
              "\n",
              "    .dataframe tbody tr th {\n",
              "        vertical-align: top;\n",
              "    }\n",
              "\n",
              "    .dataframe thead th {\n",
              "        text-align: right;\n",
              "    }\n",
              "</style>\n",
              "<table border=\"1\" class=\"dataframe\">\n",
              "  <thead>\n",
              "    <tr style=\"text-align: right;\">\n",
              "      <th>status</th>\n",
              "      <th>0</th>\n",
              "      <th>1</th>\n",
              "    </tr>\n",
              "    <tr>\n",
              "      <th>first_interaction</th>\n",
              "      <th></th>\n",
              "      <th></th>\n",
              "    </tr>\n",
              "  </thead>\n",
              "  <tbody>\n",
              "    <tr>\n",
              "      <th>Mobile App</th>\n",
              "      <td>89.468599</td>\n",
              "      <td>10.531401</td>\n",
              "    </tr>\n",
              "    <tr>\n",
              "      <th>Website</th>\n",
              "      <td>54.405980</td>\n",
              "      <td>45.594020</td>\n",
              "    </tr>\n",
              "  </tbody>\n",
              "</table>\n",
              "</div>"
            ],
            "text/plain": [
              "status                     0          1\n",
              "first_interaction                      \n",
              "Mobile App         89.468599  10.531401\n",
              "Website            54.405980  45.594020"
            ]
          },
          "execution_count": 30,
          "metadata": {},
          "output_type": "execute_result"
        }
      ],
      "source": [
        "pd.crosstab(df['first_interaction'],df['status'],normalize='index')*100"
      ]
    },
    {
      "cell_type": "markdown",
      "id": "10357cec-ef55-4a60-a138-c3b12736d8b1",
      "metadata": {
        "id": "10357cec-ef55-4a60-a138-c3b12736d8b1"
      },
      "source": [
        "## Observation\n",
        " - a high percentage of 45.6 was converted to paid customers via the first interaction throug website"
      ]
    },
    {
      "cell_type": "code",
      "execution_count": null,
      "id": "b82ed4cf-307d-42c9-a049-2ab8bd7bc7de",
      "metadata": {
        "id": "b82ed4cf-307d-42c9-a049-2ab8bd7bc7de",
        "outputId": "ce68be58-7311-4b76-bd76-9837bcf0dad5"
      },
      "outputs": [
        {
          "data": {
            "text/html": [
              "<div>\n",
              "<style scoped>\n",
              "    .dataframe tbody tr th:only-of-type {\n",
              "        vertical-align: middle;\n",
              "    }\n",
              "\n",
              "    .dataframe tbody tr th {\n",
              "        vertical-align: top;\n",
              "    }\n",
              "\n",
              "    .dataframe thead th {\n",
              "        text-align: right;\n",
              "    }\n",
              "</style>\n",
              "<table border=\"1\" class=\"dataframe\">\n",
              "  <thead>\n",
              "    <tr style=\"text-align: right;\">\n",
              "      <th>status</th>\n",
              "      <th>0</th>\n",
              "      <th>1</th>\n",
              "    </tr>\n",
              "    <tr>\n",
              "      <th>profile_completed</th>\n",
              "      <th></th>\n",
              "      <th></th>\n",
              "    </tr>\n",
              "  </thead>\n",
              "  <tbody>\n",
              "    <tr>\n",
              "      <th>High</th>\n",
              "      <td>58.215548</td>\n",
              "      <td>41.784452</td>\n",
              "    </tr>\n",
              "    <tr>\n",
              "      <th>Low</th>\n",
              "      <td>92.523364</td>\n",
              "      <td>7.476636</td>\n",
              "    </tr>\n",
              "    <tr>\n",
              "      <th>Medium</th>\n",
              "      <td>81.124498</td>\n",
              "      <td>18.875502</td>\n",
              "    </tr>\n",
              "  </tbody>\n",
              "</table>\n",
              "</div>"
            ],
            "text/plain": [
              "status                     0          1\n",
              "profile_completed                      \n",
              "High               58.215548  41.784452\n",
              "Low                92.523364   7.476636\n",
              "Medium             81.124498  18.875502"
            ]
          },
          "execution_count": 31,
          "metadata": {},
          "output_type": "execute_result"
        }
      ],
      "source": [
        "pd.crosstab(df['profile_completed'],df['status'],normalize='index')*100"
      ]
    },
    {
      "cell_type": "markdown",
      "id": "2f6b174a-4532-42b8-bb07-0312c11ef443",
      "metadata": {
        "id": "2f6b174a-4532-42b8-bb07-0312c11ef443"
      },
      "source": [
        "## Observation\n",
        "\n",
        "- an approximate of 42 % of the high - profile completed are being converted to paid customer"
      ]
    },
    {
      "cell_type": "code",
      "execution_count": null,
      "id": "9a9e3793-3616-4ebf-b62b-9d6c6a6e0096",
      "metadata": {
        "id": "9a9e3793-3616-4ebf-b62b-9d6c6a6e0096",
        "outputId": "ee716208-7333-458f-d55f-dff9fbe8525c"
      },
      "outputs": [
        {
          "data": {
            "text/html": [
              "<div>\n",
              "<style scoped>\n",
              "    .dataframe tbody tr th:only-of-type {\n",
              "        vertical-align: middle;\n",
              "    }\n",
              "\n",
              "    .dataframe tbody tr th {\n",
              "        vertical-align: top;\n",
              "    }\n",
              "\n",
              "    .dataframe thead th {\n",
              "        text-align: right;\n",
              "    }\n",
              "</style>\n",
              "<table border=\"1\" class=\"dataframe\">\n",
              "  <thead>\n",
              "    <tr style=\"text-align: right;\">\n",
              "      <th>status</th>\n",
              "      <th>0</th>\n",
              "      <th>1</th>\n",
              "    </tr>\n",
              "    <tr>\n",
              "      <th>last_activity</th>\n",
              "      <th></th>\n",
              "      <th></th>\n",
              "    </tr>\n",
              "  </thead>\n",
              "  <tbody>\n",
              "    <tr>\n",
              "      <th>Email Activity</th>\n",
              "      <td>69.666374</td>\n",
              "      <td>30.333626</td>\n",
              "    </tr>\n",
              "    <tr>\n",
              "      <th>Phone Activity</th>\n",
              "      <td>78.687196</td>\n",
              "      <td>21.312804</td>\n",
              "    </tr>\n",
              "    <tr>\n",
              "      <th>Website Activity</th>\n",
              "      <td>61.545455</td>\n",
              "      <td>38.454545</td>\n",
              "    </tr>\n",
              "  </tbody>\n",
              "</table>\n",
              "</div>"
            ],
            "text/plain": [
              "status                    0          1\n",
              "last_activity                         \n",
              "Email Activity    69.666374  30.333626\n",
              "Phone Activity    78.687196  21.312804\n",
              "Website Activity  61.545455  38.454545"
            ]
          },
          "execution_count": 32,
          "metadata": {},
          "output_type": "execute_result"
        }
      ],
      "source": [
        "pd.crosstab(df['last_activity'],df['status'],normalize='index')*100"
      ]
    },
    {
      "cell_type": "code",
      "execution_count": null,
      "id": "cfd334dd-1458-4605-8e79-b8b771fe88ea",
      "metadata": {
        "id": "cfd334dd-1458-4605-8e79-b8b771fe88ea",
        "outputId": "b7e18331-a3d9-4611-a4a5-a9d5ba565438"
      },
      "outputs": [
        {
          "data": {
            "text/html": [
              "<div>\n",
              "<style scoped>\n",
              "    .dataframe tbody tr th:only-of-type {\n",
              "        vertical-align: middle;\n",
              "    }\n",
              "\n",
              "    .dataframe tbody tr th {\n",
              "        vertical-align: top;\n",
              "    }\n",
              "\n",
              "    .dataframe thead th {\n",
              "        text-align: right;\n",
              "    }\n",
              "</style>\n",
              "<table border=\"1\" class=\"dataframe\">\n",
              "  <thead>\n",
              "    <tr style=\"text-align: right;\">\n",
              "      <th>status</th>\n",
              "      <th>0</th>\n",
              "      <th>1</th>\n",
              "    </tr>\n",
              "    <tr>\n",
              "      <th>print_media_type1</th>\n",
              "      <th></th>\n",
              "      <th></th>\n",
              "    </tr>\n",
              "  </thead>\n",
              "  <tbody>\n",
              "    <tr>\n",
              "      <th>No</th>\n",
              "      <td>70.400972</td>\n",
              "      <td>29.599028</td>\n",
              "    </tr>\n",
              "    <tr>\n",
              "      <th>Yes</th>\n",
              "      <td>68.008048</td>\n",
              "      <td>31.991952</td>\n",
              "    </tr>\n",
              "  </tbody>\n",
              "</table>\n",
              "</div>"
            ],
            "text/plain": [
              "status                     0          1\n",
              "print_media_type1                      \n",
              "No                 70.400972  29.599028\n",
              "Yes                68.008048  31.991952"
            ]
          },
          "execution_count": 33,
          "metadata": {},
          "output_type": "execute_result"
        }
      ],
      "source": [
        "pd.crosstab(df['print_media_type1'],df['status'],normalize='index')*100"
      ]
    },
    {
      "cell_type": "code",
      "execution_count": null,
      "id": "29b6729b-2c83-4898-8ddb-3eb558792a90",
      "metadata": {
        "id": "29b6729b-2c83-4898-8ddb-3eb558792a90",
        "outputId": "8a8c44c5-4a70-4c38-f73f-42c59047b63b"
      },
      "outputs": [
        {
          "data": {
            "text/html": [
              "<div>\n",
              "<style scoped>\n",
              "    .dataframe tbody tr th:only-of-type {\n",
              "        vertical-align: middle;\n",
              "    }\n",
              "\n",
              "    .dataframe tbody tr th {\n",
              "        vertical-align: top;\n",
              "    }\n",
              "\n",
              "    .dataframe thead th {\n",
              "        text-align: right;\n",
              "    }\n",
              "</style>\n",
              "<table border=\"1\" class=\"dataframe\">\n",
              "  <thead>\n",
              "    <tr style=\"text-align: right;\">\n",
              "      <th>status</th>\n",
              "      <th>0</th>\n",
              "      <th>1</th>\n",
              "    </tr>\n",
              "    <tr>\n",
              "      <th>print_media_type2</th>\n",
              "      <th></th>\n",
              "      <th></th>\n",
              "    </tr>\n",
              "  </thead>\n",
              "  <tbody>\n",
              "    <tr>\n",
              "      <th>No</th>\n",
              "      <td>70.267184</td>\n",
              "      <td>29.732816</td>\n",
              "    </tr>\n",
              "    <tr>\n",
              "      <th>Yes</th>\n",
              "      <td>67.811159</td>\n",
              "      <td>32.188841</td>\n",
              "    </tr>\n",
              "  </tbody>\n",
              "</table>\n",
              "</div>"
            ],
            "text/plain": [
              "status                     0          1\n",
              "print_media_type2                      \n",
              "No                 70.267184  29.732816\n",
              "Yes                67.811159  32.188841"
            ]
          },
          "execution_count": 36,
          "metadata": {},
          "output_type": "execute_result"
        }
      ],
      "source": [
        "pd.crosstab(df['print_media_type2'],df['status'],normalize='index')*100"
      ]
    },
    {
      "cell_type": "code",
      "execution_count": null,
      "id": "a476db04-d11e-4508-8940-01fce2bad2e5",
      "metadata": {
        "id": "a476db04-d11e-4508-8940-01fce2bad2e5",
        "outputId": "e4d4caeb-2de2-4c7d-8eb0-3f5916a99998"
      },
      "outputs": [
        {
          "data": {
            "text/html": [
              "<div>\n",
              "<style scoped>\n",
              "    .dataframe tbody tr th:only-of-type {\n",
              "        vertical-align: middle;\n",
              "    }\n",
              "\n",
              "    .dataframe tbody tr th {\n",
              "        vertical-align: top;\n",
              "    }\n",
              "\n",
              "    .dataframe thead th {\n",
              "        text-align: right;\n",
              "    }\n",
              "</style>\n",
              "<table border=\"1\" class=\"dataframe\">\n",
              "  <thead>\n",
              "    <tr style=\"text-align: right;\">\n",
              "      <th>status</th>\n",
              "      <th>0</th>\n",
              "      <th>1</th>\n",
              "    </tr>\n",
              "    <tr>\n",
              "      <th>digital_media</th>\n",
              "      <th></th>\n",
              "      <th></th>\n",
              "    </tr>\n",
              "  </thead>\n",
              "  <tbody>\n",
              "    <tr>\n",
              "      <th>No</th>\n",
              "      <td>70.403917</td>\n",
              "      <td>29.596083</td>\n",
              "    </tr>\n",
              "    <tr>\n",
              "      <th>Yes</th>\n",
              "      <td>68.121442</td>\n",
              "      <td>31.878558</td>\n",
              "    </tr>\n",
              "  </tbody>\n",
              "</table>\n",
              "</div>"
            ],
            "text/plain": [
              "status                 0          1\n",
              "digital_media                      \n",
              "No             70.403917  29.596083\n",
              "Yes            68.121442  31.878558"
            ]
          },
          "execution_count": 37,
          "metadata": {},
          "output_type": "execute_result"
        }
      ],
      "source": [
        "pd.crosstab(df['digital_media'],df['status'],normalize='index')*100"
      ]
    },
    {
      "cell_type": "code",
      "execution_count": null,
      "id": "5e7f0c35-36b1-43c3-8aff-ac51e7307bdb",
      "metadata": {
        "id": "5e7f0c35-36b1-43c3-8aff-ac51e7307bdb",
        "outputId": "32976c2e-5812-431a-8f98-c8d2e36d2578"
      },
      "outputs": [
        {
          "data": {
            "text/html": [
              "<div>\n",
              "<style scoped>\n",
              "    .dataframe tbody tr th:only-of-type {\n",
              "        vertical-align: middle;\n",
              "    }\n",
              "\n",
              "    .dataframe tbody tr th {\n",
              "        vertical-align: top;\n",
              "    }\n",
              "\n",
              "    .dataframe thead th {\n",
              "        text-align: right;\n",
              "    }\n",
              "</style>\n",
              "<table border=\"1\" class=\"dataframe\">\n",
              "  <thead>\n",
              "    <tr style=\"text-align: right;\">\n",
              "      <th>status</th>\n",
              "      <th>0</th>\n",
              "      <th>1</th>\n",
              "    </tr>\n",
              "    <tr>\n",
              "      <th>educational_channels</th>\n",
              "      <th></th>\n",
              "      <th></th>\n",
              "    </tr>\n",
              "  </thead>\n",
              "  <tbody>\n",
              "    <tr>\n",
              "      <th>No</th>\n",
              "      <td>69.797799</td>\n",
              "      <td>30.202201</td>\n",
              "    </tr>\n",
              "    <tr>\n",
              "      <th>Yes</th>\n",
              "      <td>72.056738</td>\n",
              "      <td>27.943262</td>\n",
              "    </tr>\n",
              "  </tbody>\n",
              "</table>\n",
              "</div>"
            ],
            "text/plain": [
              "status                        0          1\n",
              "educational_channels                      \n",
              "No                    69.797799  30.202201\n",
              "Yes                   72.056738  27.943262"
            ]
          },
          "execution_count": 38,
          "metadata": {},
          "output_type": "execute_result"
        }
      ],
      "source": [
        "pd.crosstab(df['educational_channels'],df['status'],normalize='index')*100"
      ]
    },
    {
      "cell_type": "markdown",
      "id": "5277f2c4-89ba-4e04-9695-a84cdf0abc79",
      "metadata": {
        "id": "5277f2c4-89ba-4e04-9695-a84cdf0abc79"
      },
      "source": [
        "## Observation\n",
        "\n",
        "- those in print_media, digital_media and educational_channels did not have a good response to be converted to paid customers.\n",
        "- there is approximate of 70% not converted to paid customers"
      ]
    },
    {
      "cell_type": "code",
      "execution_count": null,
      "id": "bd02bfdf-4246-4c42-89d9-737f15428ed9",
      "metadata": {
        "id": "bd02bfdf-4246-4c42-89d9-737f15428ed9",
        "outputId": "9d43a4c8-f271-40d0-b659-39ef35fe16bb"
      },
      "outputs": [
        {
          "data": {
            "text/html": [
              "<div>\n",
              "<style scoped>\n",
              "    .dataframe tbody tr th:only-of-type {\n",
              "        vertical-align: middle;\n",
              "    }\n",
              "\n",
              "    .dataframe tbody tr th {\n",
              "        vertical-align: top;\n",
              "    }\n",
              "\n",
              "    .dataframe thead th {\n",
              "        text-align: right;\n",
              "    }\n",
              "</style>\n",
              "<table border=\"1\" class=\"dataframe\">\n",
              "  <thead>\n",
              "    <tr style=\"text-align: right;\">\n",
              "      <th>status</th>\n",
              "      <th>0</th>\n",
              "      <th>1</th>\n",
              "    </tr>\n",
              "    <tr>\n",
              "      <th>referral</th>\n",
              "      <th></th>\n",
              "      <th></th>\n",
              "    </tr>\n",
              "  </thead>\n",
              "  <tbody>\n",
              "    <tr>\n",
              "      <th>No</th>\n",
              "      <td>70.922771</td>\n",
              "      <td>29.077229</td>\n",
              "    </tr>\n",
              "    <tr>\n",
              "      <th>Yes</th>\n",
              "      <td>32.258065</td>\n",
              "      <td>67.741935</td>\n",
              "    </tr>\n",
              "  </tbody>\n",
              "</table>\n",
              "</div>"
            ],
            "text/plain": [
              "status            0          1\n",
              "referral                      \n",
              "No        70.922771  29.077229\n",
              "Yes       32.258065  67.741935"
            ]
          },
          "execution_count": 39,
          "metadata": {},
          "output_type": "execute_result"
        }
      ],
      "source": [
        "pd.crosstab(df['referral'],df['status'],normalize='index')*100"
      ]
    },
    {
      "cell_type": "markdown",
      "id": "a2a69e5a-d0b6-4081-8c89-783324b9c59b",
      "metadata": {
        "id": "a2a69e5a-d0b6-4081-8c89-783324b9c59b"
      },
      "source": [
        "## Observation,\n",
        "- 35.5% of the professional convert to paid customers with an average age of 49.3 years\n",
        "- 11.71% of the student from a pool of 555 convert to paid customers with an average age of 21 years old\n",
        "- 26.58 % of the Unexmployed convert to paid customers with an average age of 40.14 years\n",
        "- Approximate 70% of the surveyed in media n channels did not convert to a paid customers\n"
      ]
    },
    {
      "cell_type": "code",
      "execution_count": null,
      "id": "e2a29740-0dd3-4671-b170-77c59a0c0106",
      "metadata": {
        "colab": {
          "base_uri": "https://localhost:8080/",
          "height": 175
        },
        "id": "e2a29740-0dd3-4671-b170-77c59a0c0106",
        "outputId": "916d13b0-ed41-4e02-c0a5-749b6db83e89"
      },
      "outputs": [
        {
          "data": {
            "text/html": [
              "<div>\n",
              "<style scoped>\n",
              "    .dataframe tbody tr th:only-of-type {\n",
              "        vertical-align: middle;\n",
              "    }\n",
              "\n",
              "    .dataframe tbody tr th {\n",
              "        vertical-align: top;\n",
              "    }\n",
              "\n",
              "    .dataframe thead th {\n",
              "        text-align: right;\n",
              "    }\n",
              "</style>\n",
              "<table border=\"1\" class=\"dataframe\">\n",
              "  <thead>\n",
              "    <tr style=\"text-align: right;\">\n",
              "      <th>educational_channels</th>\n",
              "      <th>No</th>\n",
              "      <th>Yes</th>\n",
              "    </tr>\n",
              "  </thead>\n",
              "  <tbody>\n",
              "    <tr>\n",
              "      <th>count</th>\n",
              "      <td>3907.000000</td>\n",
              "      <td>705.000000</td>\n",
              "    </tr>\n",
              "    <tr>\n",
              "      <th>mean</th>\n",
              "      <td>0.302022</td>\n",
              "      <td>0.279433</td>\n",
              "    </tr>\n",
              "    <tr>\n",
              "      <th>std</th>\n",
              "      <td>0.459194</td>\n",
              "      <td>0.449039</td>\n",
              "    </tr>\n",
              "    <tr>\n",
              "      <th>min</th>\n",
              "      <td>0.000000</td>\n",
              "      <td>0.000000</td>\n",
              "    </tr>\n",
              "    <tr>\n",
              "      <th>25%</th>\n",
              "      <td>0.000000</td>\n",
              "      <td>0.000000</td>\n",
              "    </tr>\n",
              "    <tr>\n",
              "      <th>50%</th>\n",
              "      <td>0.000000</td>\n",
              "      <td>0.000000</td>\n",
              "    </tr>\n",
              "    <tr>\n",
              "      <th>75%</th>\n",
              "      <td>1.000000</td>\n",
              "      <td>1.000000</td>\n",
              "    </tr>\n",
              "    <tr>\n",
              "      <th>max</th>\n",
              "      <td>1.000000</td>\n",
              "      <td>1.000000</td>\n",
              "    </tr>\n",
              "  </tbody>\n",
              "</table>\n",
              "</div>"
            ],
            "text/plain": [
              "educational_channels           No         Yes\n",
              "count                 3907.000000  705.000000\n",
              "mean                     0.302022    0.279433\n",
              "std                      0.459194    0.449039\n",
              "min                      0.000000    0.000000\n",
              "25%                      0.000000    0.000000\n",
              "50%                      0.000000    0.000000\n",
              "75%                      1.000000    1.000000\n",
              "max                      1.000000    1.000000"
            ]
          },
          "execution_count": 44,
          "metadata": {},
          "output_type": "execute_result"
        }
      ],
      "source": [
        "df.groupby([\"educational_channels\"])['status'].describe().T\n"
      ]
    },
    {
      "cell_type": "code",
      "execution_count": null,
      "id": "39a0f65b-514e-4897-b796-1752ffcfdc10",
      "metadata": {
        "id": "39a0f65b-514e-4897-b796-1752ffcfdc10"
      },
      "outputs": [],
      "source": [
        "## function to plot a boxplot and a histogram along the same scale.\n",
        "\n",
        "\n",
        "def histogram_boxplot(df, feature, figsize=(10, 8), kde=False, bins=None):\n",
        "    \"\"\"\n",
        "    Boxplot and histogram combined\n",
        "\n",
        "    df: dataframe\n",
        "    feature: dataframe column\n",
        "    figsize: size of figure (default (12,7))\n",
        "    kde: whether to the show density curve (default False)\n",
        "    bins: number of bins for histogram (default None)\n",
        "    \"\"\"\n",
        "    f2, (ax_box2, ax_hist2) = plt.subplots(\n",
        "        nrows=2,  # Number of rows of the subplot grid= 2\n",
        "        sharex=True,  # x-axis will be shared among all subplots\n",
        "        gridspec_kw={\"height_ratios\": (0.25, 0.75)},\n",
        "        figsize=figsize,\n",
        "    )  # creating the 2 subplots\n",
        "    sns.boxplot(\n",
        "        data=df, x=feature, ax=ax_box2, showmeans=True, color=\"yellow\"\n",
        "    )  # boxplot will be created and a star will indicate the mean value of the column\n",
        "    sns.histplot(\n",
        "        data=df, x=feature, kde=kde, ax=ax_hist2, bins=bins, palette=\"winter\"\n",
        "    ) if bins else sns.histplot(\n",
        "        data=df, x=feature, kde=kde, ax=ax_hist2\n",
        "    )  # For histogram\n",
        "    ax_hist2.axvline(\n",
        "        df[feature].mean(), color=\"green\", linestyle=\"--\"\n",
        "    )  # Add mean to the histogram\n",
        "    ax_hist2.axvline(\n",
        "        df[feature].median(), color=\"red\", linestyle=\"-\"\n",
        "    )  # Add median to the histogram"
      ]
    },
    {
      "cell_type": "code",
      "execution_count": null,
      "id": "c239ac54-1aaf-46fe-aaa1-3b9985d351c6",
      "metadata": {
        "colab": {
          "base_uri": "https://localhost:8080/",
          "height": 582
        },
        "id": "c239ac54-1aaf-46fe-aaa1-3b9985d351c6",
        "outputId": "e2fe70f6-ea26-4190-87f2-496eea4acbd7"
      },
      "outputs": [
        {
          "data": {
            "image/png": "[encoded data removed]",
            "text/plain": [
              "<Figure size 720x576 with 2 Axes>"
            ]
          },
          "metadata": {
            "needs_background": "light"
          },
          "output_type": "display_data"
        }
      ],
      "source": [
        "histogram_boxplot(df,'age')"
      ]
    },
    {
      "cell_type": "markdown",
      "id": "9352e48d-5b87-4e1a-bf80-44b3decade55",
      "metadata": {
        "id": "9352e48d-5b87-4e1a-bf80-44b3decade55"
      },
      "source": [
        "## Observation\n",
        "- It shown that the age does not have any outliners\n",
        "- It does not seems like following the normal distribution\n",
        "- It is left skewed which means than the 'mean' is less than the 'median'.\n",
        "    - possible cause is the participations (i.e pax of the age group )is not balance"
      ]
    },
    {
      "cell_type": "code",
      "execution_count": null,
      "id": "587db21c-2e82-47a2-bec2-f12a58b843a8",
      "metadata": {
        "id": "587db21c-2e82-47a2-bec2-f12a58b843a8",
        "outputId": "d69a5f31-903a-408e-f7c9-40e6a6f58639"
      },
      "outputs": [
        {
          "data": {
            "image/png": "[encoded data removed]",
            "text/plain": [
              "<Figure size 720x576 with 2 Axes>"
            ]
          },
          "metadata": {
            "needs_background": "light"
          },
          "output_type": "display_data"
        }
      ],
      "source": [
        "histogram_boxplot(df,'website_visits')"
      ]
    },
    {
      "cell_type": "markdown",
      "id": "9a57d59f-579e-4c97-8d38-8bfc18e6280e",
      "metadata": {
        "id": "9a57d59f-579e-4c97-8d38-8bfc18e6280e"
      },
      "source": [
        "## Observation\n",
        "- it is right skewed as it does observe that there are outliers / extreme values observed\n"
      ]
    },
    {
      "cell_type": "code",
      "execution_count": null,
      "id": "72511ece-227f-4a5c-8ac2-3947e903a8dd",
      "metadata": {
        "id": "72511ece-227f-4a5c-8ac2-3947e903a8dd",
        "outputId": "be04c2a1-181b-4b3f-c9cf-59ede2dff3bd"
      },
      "outputs": [
        {
          "data": {
            "image/png": "[encoded data removed]",
            "text/plain": [
              "<Figure size 720x576 with 2 Axes>"
            ]
          },
          "metadata": {
            "needs_background": "light"
          },
          "output_type": "display_data"
        }
      ],
      "source": [
        "histogram_boxplot(df,'time_spent_on_website')"
      ]
    },
    {
      "cell_type": "code",
      "execution_count": null,
      "id": "d924343a-5013-47ef-ab57-b2d35ab0e098",
      "metadata": {
        "id": "d924343a-5013-47ef-ab57-b2d35ab0e098"
      },
      "outputs": [],
      "source": [
        "## Observation"
      ]
    },
    {
      "cell_type": "code",
      "execution_count": null,
      "id": "1809b142-60a8-4f65-9e6c-0fba32fb6775",
      "metadata": {
        "id": "1809b142-60a8-4f65-9e6c-0fba32fb6775",
        "outputId": "f6abd6f1-cf95-40d2-c876-6485fbb13129"
      },
      "outputs": [
        {
          "data": {
            "image/png": "[encoded data removed]",
            "text/plain": [
              "<Figure size 720x576 with 2 Axes>"
            ]
          },
          "metadata": {
            "needs_background": "light"
          },
          "output_type": "display_data"
        }
      ],
      "source": [
        "histogram_boxplot(df,'page_views_per_visit')"
      ]
    },
    {
      "cell_type": "markdown",
      "id": "d1914351-fe7d-45d8-9c96-01a8258d62d9",
      "metadata": {
        "id": "d1914351-fe7d-45d8-9c96-01a8258d62d9"
      },
      "source": [
        "### Observation\n",
        "\n",
        "it seems like they are some outliers in websites visit & page view"
      ]
    },
    {
      "cell_type": "markdown",
      "id": "72cb8667-0ffc-414e-95b0-ae375f1e53b9",
      "metadata": {
        "id": "72cb8667-0ffc-414e-95b0-ae375f1e53b9"
      },
      "source": [
        "#### **Let's understand the distribution of the categorical variables**"
      ]
    },
    {
      "cell_type": "code",
      "execution_count": null,
      "id": "ba2519c0-65b2-40ad-9c31-f815aa2eb368",
      "metadata": {
        "colab": {
          "base_uri": "https://localhost:8080/",
          "height": 461
        },
        "id": "ba2519c0-65b2-40ad-9c31-f815aa2eb368",
        "outputId": "9f46b935-7503-4ca5-b924-54ace03d0e6c"
      },
      "outputs": [
        {
          "data": {
            "image/png": "[encoded data removed]",
            "text/plain": [
              "<Figure size 432x288 with 1 Axes>"
            ]
          },
          "metadata": {
            "needs_background": "light"
          },
          "output_type": "display_data"
        }
      ],
      "source": [
        "sns.countplot(x = df['current_occupation'])\n",
        "plt.show()"
      ]
    },
    {
      "cell_type": "code",
      "execution_count": null,
      "id": "25db87fc-0b3d-4089-9d8f-67ac307bcead",
      "metadata": {
        "colab": {
          "base_uri": "https://localhost:8080/",
          "height": 461
        },
        "id": "25db87fc-0b3d-4089-9d8f-67ac307bcead",
        "outputId": "9f46b935-7503-4ca5-b924-54ace03d0e6c"
      },
      "outputs": [
        {
          "data": {
            "image/png": "[encoded data removed]",
            "text/plain": [
              "<Figure size 432x288 with 1 Axes>"
            ]
          },
          "metadata": {
            "needs_background": "light"
          },
          "output_type": "display_data"
        }
      ],
      "source": [
        "sns.countplot(x = df['first_interaction'])\n",
        "plt.show()"
      ]
    },
    {
      "cell_type": "code",
      "execution_count": null,
      "id": "92536f38-58da-4df4-ba1c-3f3a72cf2792",
      "metadata": {
        "colab": {
          "base_uri": "https://localhost:8080/",
          "height": 461
        },
        "id": "92536f38-58da-4df4-ba1c-3f3a72cf2792",
        "outputId": "9f46b935-7503-4ca5-b924-54ace03d0e6c"
      },
      "outputs": [
        {
          "data": {
            "image/png": "[encoded data removed]",
            "text/plain": [
              "<Figure size 432x288 with 1 Axes>"
            ]
          },
          "metadata": {
            "needs_background": "light"
          },
          "output_type": "display_data"
        }
      ],
      "source": [
        "sns.countplot(x = df['last_activity'])\n",
        "plt.show()"
      ]
    },
    {
      "cell_type": "code",
      "execution_count": null,
      "id": "73ea3f83-6ec5-4f47-aab7-17e331cfbde9",
      "metadata": {
        "colab": {
          "base_uri": "https://localhost:8080/",
          "height": 461
        },
        "id": "73ea3f83-6ec5-4f47-aab7-17e331cfbde9",
        "outputId": "9f46b935-7503-4ca5-b924-54ace03d0e6c"
      },
      "outputs": [
        {
          "data": {
            "image/png": "[encoded data removed]",
            "text/plain": [
              "<Figure size 432x288 with 1 Axes>"
            ]
          },
          "metadata": {
            "needs_background": "light"
          },
          "output_type": "display_data"
        }
      ],
      "source": [
        "sns.countplot(x = df['profile_completed'])\n",
        "plt.show()"
      ]
    },
    {
      "cell_type": "code",
      "execution_count": null,
      "id": "1fde5e06-0fb0-44ad-bfd5-d4187d29b1a8",
      "metadata": {
        "colab": {
          "base_uri": "https://localhost:8080/",
          "height": 461
        },
        "id": "1fde5e06-0fb0-44ad-bfd5-d4187d29b1a8",
        "outputId": "9f46b935-7503-4ca5-b924-54ace03d0e6c"
      },
      "outputs": [
        {
          "data": {
            "image/png": "[encoded data removed]",
            "text/plain": [
              "<Figure size 432x288 with 1 Axes>"
            ]
          },
          "metadata": {
            "needs_background": "light"
          },
          "output_type": "display_data"
        }
      ],
      "source": [
        "sns.countplot(x = df['referral'])\n",
        "plt.show()"
      ]
    },
    {
      "cell_type": "code",
      "execution_count": null,
      "id": "9e2b5e2c-d3be-41cb-ac29-987f1cbe66e1",
      "metadata": {
        "colab": {
          "base_uri": "https://localhost:8080/",
          "height": 461
        },
        "id": "9e2b5e2c-d3be-41cb-ac29-987f1cbe66e1",
        "outputId": "9f46b935-7503-4ca5-b924-54ace03d0e6c"
      },
      "outputs": [
        {
          "data": {
            "image/png": "[encoded data removed]",
            "text/plain": [
              "<Figure size 432x288 with 1 Axes>"
            ]
          },
          "metadata": {
            "needs_background": "light"
          },
          "output_type": "display_data"
        }
      ],
      "source": [
        "sns.countplot(x = df['print_media_type1'])\n",
        "plt.show()"
      ]
    },
    {
      "cell_type": "code",
      "execution_count": null,
      "id": "0ede545b-7bfd-45bd-b61b-c7c5ddce71f8",
      "metadata": {
        "colab": {
          "base_uri": "https://localhost:8080/",
          "height": 461
        },
        "id": "0ede545b-7bfd-45bd-b61b-c7c5ddce71f8",
        "outputId": "9f46b935-7503-4ca5-b924-54ace03d0e6c"
      },
      "outputs": [
        {
          "data": {
            "image/png": "[encoded data removed]",
            "text/plain": [
              "<Figure size 432x288 with 1 Axes>"
            ]
          },
          "metadata": {
            "needs_background": "light"
          },
          "output_type": "display_data"
        }
      ],
      "source": [
        "sns.countplot(x = df['print_media_type2'])\n",
        "plt.show()"
      ]
    },
    {
      "cell_type": "code",
      "execution_count": null,
      "id": "76d83a0e-8ef7-4225-afa8-13491a5b214c",
      "metadata": {
        "colab": {
          "base_uri": "https://localhost:8080/",
          "height": 461
        },
        "id": "76d83a0e-8ef7-4225-afa8-13491a5b214c",
        "outputId": "9f46b935-7503-4ca5-b924-54ace03d0e6c"
      },
      "outputs": [
        {
          "data": {
            "image/png": "[encoded data removed]",
            "text/plain": [
              "<Figure size 432x288 with 1 Axes>"
            ]
          },
          "metadata": {
            "needs_background": "light"
          },
          "output_type": "display_data"
        }
      ],
      "source": [
        "sns.countplot(x = df['digital_media'])\n",
        "plt.show()"
      ]
    },
    {
      "cell_type": "code",
      "execution_count": null,
      "id": "2a024183-1d74-44b8-82f0-35c7dc2197c1",
      "metadata": {
        "colab": {
          "base_uri": "https://localhost:8080/",
          "height": 461
        },
        "id": "2a024183-1d74-44b8-82f0-35c7dc2197c1",
        "outputId": "9f46b935-7503-4ca5-b924-54ace03d0e6c"
      },
      "outputs": [
        {
          "data": {
            "image/png": "[encoded data removed]",
            "text/plain": [
              "<Figure size 432x288 with 1 Axes>"
            ]
          },
          "metadata": {
            "needs_background": "light"
          },
          "output_type": "display_data"
        }
      ],
      "source": [
        "sns.countplot(x = df['educational_channels'])\n",
        "plt.show()"
      ]
    },
    {
      "cell_type": "markdown",
      "id": "6893d82f-4f49-4e47-aa3e-75103fa4a171",
      "metadata": {
        "id": "6893d82f-4f49-4e47-aa3e-75103fa4a171"
      },
      "source": [
        "### To understand within each categorical, how many are converted to paid customer"
      ]
    },
    {
      "cell_type": "code",
      "execution_count": null,
      "id": "cde4fa4f-58ed-44d0-985a-50c48cb228b0",
      "metadata": {
        "id": "cde4fa4f-58ed-44d0-985a-50c48cb228b0"
      },
      "outputs": [],
      "source": [
        "# Defining the stacked_barplot() function\n",
        "def stacked_barplot(df,predictor,target,figsize=(10,6)):\n",
        "  (pd.crosstab(df[predictor],df[target],normalize='index')*100).plot(kind='bar',figsize=figsize,stacked=True)\n",
        "  plt.legend(loc=\"lower right\")\n",
        "  plt.ylabel(target)"
      ]
    },
    {
      "cell_type": "code",
      "execution_count": null,
      "id": "46d245cd-15b9-43e2-a90c-1b1cb94e1161",
      "metadata": {
        "id": "46d245cd-15b9-43e2-a90c-1b1cb94e1161",
        "outputId": "09f61a47-5532-45a9-c2e6-e3e2a01f0a87"
      },
      "outputs": [
        {
          "data": {
            "image/png": "[encoded data removed]",
            "text/plain": [
              "<Figure size 720x432 with 1 Axes>"
            ]
          },
          "metadata": {
            "needs_background": "light"
          },
          "output_type": "display_data"
        }
      ],
      "source": [
        "stacked_barplot(df,'current_occupation','status')"
      ]
    },
    {
      "cell_type": "code",
      "execution_count": null,
      "id": "d8e240b4-feb6-4f96-a5c0-7cb895a2d562",
      "metadata": {
        "id": "d8e240b4-feb6-4f96-a5c0-7cb895a2d562",
        "outputId": "6e1edcc2-46cd-4e65-dfd2-9c6ba9e7df82"
      },
      "outputs": [
        {
          "data": {
            "image/png": "[encoded data removed]",
            "text/plain": [
              "<Figure size 720x432 with 1 Axes>"
            ]
          },
          "metadata": {
            "needs_background": "light"
          },
          "output_type": "display_data"
        }
      ],
      "source": [
        "stacked_barplot(df,'first_interaction','status')"
      ]
    },
    {
      "cell_type": "code",
      "execution_count": null,
      "id": "737d914a-34e9-4e02-9a5c-3e5934500228",
      "metadata": {
        "id": "737d914a-34e9-4e02-9a5c-3e5934500228",
        "outputId": "ed0e6986-601f-4f0c-f2ab-2e98f984c604"
      },
      "outputs": [
        {
          "data": {
            "image/png": "[encoded data removed]",
            "text/plain": [
              "<Figure size 720x432 with 1 Axes>"
            ]
          },
          "metadata": {
            "needs_background": "light"
          },
          "output_type": "display_data"
        }
      ],
      "source": [
        "stacked_barplot(df,'profile_completed','status')"
      ]
    },
    {
      "cell_type": "code",
      "execution_count": null,
      "id": "befe3137-a1ef-43ce-bf2c-891e62c8d457",
      "metadata": {
        "id": "befe3137-a1ef-43ce-bf2c-891e62c8d457",
        "outputId": "b18e7eff-2fdd-47b7-d5cd-edbc775c0bb5"
      },
      "outputs": [
        {
          "data": {
            "image/png": "[encoded data removed]",
            "text/plain": [
              "<Figure size 720x432 with 1 Axes>"
            ]
          },
          "metadata": {
            "needs_background": "light"
          },
          "output_type": "display_data"
        }
      ],
      "source": [
        "stacked_barplot(df,'last_activity','status')"
      ]
    },
    {
      "cell_type": "code",
      "execution_count": null,
      "id": "176ff00e-9640-40bc-875d-5a6395b8e35a",
      "metadata": {
        "id": "176ff00e-9640-40bc-875d-5a6395b8e35a",
        "outputId": "fed25a27-33b6-47a8-ed1d-71e500cf79f8"
      },
      "outputs": [
        {
          "data": {
            "image/png": "[encoded data removed]",
            "text/plain": [
              "<Figure size 720x432 with 1 Axes>"
            ]
          },
          "metadata": {
            "needs_background": "light"
          },
          "output_type": "display_data"
        }
      ],
      "source": [
        "stacked_barplot(df,'print_media_type1','status')"
      ]
    },
    {
      "cell_type": "code",
      "execution_count": null,
      "id": "a024fc92-5133-490c-9d0e-722dc60d751a",
      "metadata": {
        "id": "a024fc92-5133-490c-9d0e-722dc60d751a",
        "outputId": "699570c3-aa49-49c7-cd12-588dc89b83ac"
      },
      "outputs": [
        {
          "data": {
            "image/png": "[encoded data removed]",
            "text/plain": [
              "<Figure size 720x432 with 1 Axes>"
            ]
          },
          "metadata": {
            "needs_background": "light"
          },
          "output_type": "display_data"
        }
      ],
      "source": [
        "stacked_barplot(df,'print_media_type2','status')"
      ]
    },
    {
      "cell_type": "code",
      "execution_count": null,
      "id": "7d44c9ee-58f6-4ab3-a006-73526dda5253",
      "metadata": {
        "id": "7d44c9ee-58f6-4ab3-a006-73526dda5253",
        "outputId": "c3662ada-4713-4b28-c913-c59700753051"
      },
      "outputs": [
        {
          "data": {
            "image/png": "[encoded data removed]",
            "text/plain": [
              "<Figure size 720x432 with 1 Axes>"
            ]
          },
          "metadata": {
            "needs_background": "light"
          },
          "output_type": "display_data"
        }
      ],
      "source": [
        "stacked_barplot(df,'digital_media','status')"
      ]
    },
    {
      "cell_type": "code",
      "execution_count": null,
      "id": "bed85a3d-ce93-49ed-b841-77a1e0fbfaa3",
      "metadata": {
        "id": "bed85a3d-ce93-49ed-b841-77a1e0fbfaa3",
        "outputId": "7bc0b8df-a1e9-45de-ac27-7647750c88a2"
      },
      "outputs": [
        {
          "data": {
            "image/png": "[encoded data removed]",
            "text/plain": [
              "<Figure size 720x432 with 1 Axes>"
            ]
          },
          "metadata": {
            "needs_background": "light"
          },
          "output_type": "display_data"
        }
      ],
      "source": [
        "stacked_barplot(df,'educational_channels','status')"
      ]
    },
    {
      "cell_type": "code",
      "execution_count": null,
      "id": "8446bd47-ab94-4b06-846b-1e2ac400eb6d",
      "metadata": {
        "id": "8446bd47-ab94-4b06-846b-1e2ac400eb6d",
        "outputId": "e9dda79d-4086-443a-d631-a491de6442c9"
      },
      "outputs": [
        {
          "data": {
            "image/png": "[encoded data removed]",
            "text/plain": [
              "<Figure size 720x432 with 1 Axes>"
            ]
          },
          "metadata": {
            "needs_background": "light"
          },
          "output_type": "display_data"
        }
      ],
      "source": [
        "stacked_barplot(df,'referral','status')"
      ]
    },
    {
      "cell_type": "markdown",
      "id": "2fcf27d0-4ba8-42ae-b87c-d531f2c80199",
      "metadata": {
        "id": "2fcf27d0-4ba8-42ae-b87c-d531f2c80199"
      },
      "source": [
        "#### *visualize the correlation matrix using a heatmap**\n",
        "\n"
      ]
    },
    {
      "cell_type": "code",
      "execution_count": null,
      "id": "e15d76de-bafd-4f20-8478-39eff4d16fee",
      "metadata": {
        "id": "e15d76de-bafd-4f20-8478-39eff4d16fee",
        "outputId": "65060036-cc85-4d17-cd0f-102e5f4ce97c"
      },
      "outputs": [
        {
          "data": {
            "text/plain": [
              "<AxesSubplot:>"
            ]
          },
          "execution_count": 75,
          "metadata": {},
          "output_type": "execute_result"
        },
        {
          "data": {
            "image/png": "[encoded data removed]",
            "text/plain": [
              "<Figure size 720x576 with 2 Axes>"
            ]
          },
          "metadata": {
            "needs_background": "light"
          },
          "output_type": "display_data"
        }
      ],
      "source": [
        "# plotting the correlation between numerical variables\n",
        "plt.figure(figsize = (10,8))\n",
        "sns.heatmap(df[col_num].corr(),annot=True,fmt='0.2f', cmap='YlGnBu')"
      ]
    },
    {
      "cell_type": "markdown",
      "id": "6aa4cddf-ff65-4468-9e18-5105c132151c",
      "metadata": {
        "id": "6aa4cddf-ff65-4468-9e18-5105c132151c"
      },
      "source": [
        "## Observation\n",
        "\n",
        "It shown that most of the numerical data are not correlated"
      ]
    },
    {
      "cell_type": "markdown",
      "id": "70e15b32-f0e8-44e8-ae56-b8c5d9d047a7",
      "metadata": {
        "id": "70e15b32-f0e8-44e8-ae56-b8c5d9d047a7"
      },
      "source": [
        "## **Data Preparation for Modeling**\n"
      ]
    },
    {
      "cell_type": "code",
      "execution_count": null,
      "id": "cf81eafe-5792-4524-a4a5-3f0ee43f5076",
      "metadata": {
        "id": "cf81eafe-5792-4524-a4a5-3f0ee43f5076"
      },
      "outputs": [],
      "source": [
        "# Separating target variable and other variables\n",
        "X=df.drop(columns='status')\n",
        "Y=df['status']"
      ]
    },
    {
      "cell_type": "code",
      "execution_count": null,
      "id": "77b6f33c-3373-481d-b38a-3c6f07dec954",
      "metadata": {
        "id": "77b6f33c-3373-481d-b38a-3c6f07dec954"
      },
      "outputs": [],
      "source": [
        "# Splitting the data into train and test sets\n",
        "X_train,X_test,y_train,y_test=train_test_split(X,Y,test_size=0.30,random_state=1,stratify=Y)"
      ]
    },
    {
      "cell_type": "code",
      "execution_count": null,
      "id": "be64c607-0bb6-4991-8cc3-e51ab23d5fef",
      "metadata": {
        "colab": {
          "base_uri": "https://localhost:8080/"
        },
        "id": "be64c607-0bb6-4991-8cc3-e51ab23d5fef",
        "outputId": "3c6f46bf-fa58-45e8-8c6e-8debe83ef876"
      },
      "outputs": [
        {
          "name": "stdout",
          "output_type": "stream",
          "text": [
            "TRAIN SET\n",
            "age                      0\n",
            "current_occupation       0\n",
            "first_interaction        0\n",
            "profile_completed        0\n",
            "website_visits           0\n",
            "time_spent_on_website    0\n",
            "page_views_per_visit     0\n",
            "last_activity            0\n",
            "print_media_type1        0\n",
            "print_media_type2        0\n",
            "digital_media            0\n",
            "educational_channels     0\n",
            "referral                 0\n",
            "dtype: int64\n",
            "------------------------------\n",
            "\n",
            "TEST SET\n",
            "age                      0\n",
            "current_occupation       0\n",
            "first_interaction        0\n",
            "profile_completed        0\n",
            "website_visits           0\n",
            "time_spent_on_website    0\n",
            "page_views_per_visit     0\n",
            "last_activity            0\n",
            "print_media_type1        0\n",
            "print_media_type2        0\n",
            "digital_media            0\n",
            "educational_channels     0\n",
            "referral                 0\n",
            "dtype: int64\n"
          ]
        }
      ],
      "source": [
        "# Checking that no column has missing values in train or test sets\n",
        "print('TRAIN SET')\n",
        "print(X_train.isna().sum())\n",
        "print('-'*30)\n",
        "print()\n",
        "print('TEST SET')\n",
        "print(X_test.isna().sum())"
      ]
    },
    {
      "cell_type": "code",
      "execution_count": null,
      "id": "5b919a42-888f-41a9-b2ca-15733ddc0210",
      "metadata": {
        "id": "5b919a42-888f-41a9-b2ca-15733ddc0210"
      },
      "outputs": [],
      "source": [
        "#List of columns to create a dummy variables\n",
        "col_dummy=['current_occupation', 'first_interaction', 'profile_completed', 'last_activity', 'print_media_type1', 'print_media_type2','digital_media','educational_channels','referral']"
      ]
    },
    {
      "cell_type": "code",
      "execution_count": null,
      "id": "45b88e07-c677-4432-9be1-cb6943deac60",
      "metadata": {
        "id": "45b88e07-c677-4432-9be1-cb6943deac60"
      },
      "outputs": [],
      "source": [
        "#Encoding categorical varaibles\n",
        "X_train=pd.get_dummies(X_train, columns=col_dummy, drop_first=True)\n",
        "X_test=pd.get_dummies(X_test, columns=col_dummy, drop_first=True)"
      ]
    },
    {
      "cell_type": "code",
      "execution_count": null,
      "id": "818d2442-0784-4c1d-960f-4528b3835056",
      "metadata": {
        "id": "818d2442-0784-4c1d-960f-4528b3835056"
      },
      "outputs": [],
      "source": [
        "# Creating metric function\n",
        "def metrics_score(actual, predicted):\n",
        "    print(classification_report(actual, predicted))\n",
        "\n",
        "    cm = confusion_matrix(actual, predicted)\n",
        "    plt.figure(figsize=(8,5))\n",
        "\n",
        "    sns.heatmap(cm, annot=True,  fmt='.2f')\n",
        "    plt.ylabel('Actual')\n",
        "    plt.xlabel('Predicted')\n",
        "    plt.show()"
      ]
    },
    {
      "cell_type": "code",
      "execution_count": null,
      "id": "7d41d647-f4eb-4eb4-b3bc-3f13e28b97c8",
      "metadata": {
        "colab": {
          "base_uri": "https://localhost:8080/",
          "height": 75
        },
        "id": "7d41d647-f4eb-4eb4-b3bc-3f13e28b97c8",
        "outputId": "95859305-11b0-47bc-bf74-710566c6ca50"
      },
      "outputs": [
        {
          "data": {
            "text/plain": [
              "LogisticRegression()"
            ]
          },
          "execution_count": 46,
          "metadata": {},
          "output_type": "execute_result"
        }
      ],
      "source": [
        "# Fitting logistic regression model\n",
        "lg = LogisticRegression()\n",
        "lg.fit(X_train,y_train)"
      ]
    },
    {
      "cell_type": "code",
      "execution_count": null,
      "id": "984b0b70-2cd8-4fa8-8a2d-48b75455c2e1",
      "metadata": {
        "colab": {
          "base_uri": "https://localhost:8080/",
          "height": 629
        },
        "id": "984b0b70-2cd8-4fa8-8a2d-48b75455c2e1",
        "outputId": "7094232c-bb25-43f0-ead6-46009981f9c3"
      },
      "outputs": [
        {
          "name": "stdout",
          "output_type": "stream",
          "text": [
            "              precision    recall  f1-score   support\n",
            "\n",
            "           0       0.85      0.90      0.87      2264\n",
            "           1       0.72      0.62      0.67       964\n",
            "\n",
            "    accuracy                           0.82      3228\n",
            "   macro avg       0.79      0.76      0.77      3228\n",
            "weighted avg       0.81      0.82      0.81      3228\n",
            "\n"
          ]
        },
        {
          "data": {
            "image/png": "[encoded data removed]",
            "text/plain": [
              "<Figure size 576x360 with 2 Axes>"
            ]
          },
          "metadata": {
            "needs_background": "light"
          },
          "output_type": "display_data"
        }
      ],
      "source": [
        "# Checking the performance on the training data\n",
        "y_pred_train = lg.predict(X_train)\n",
        "metrics_score(y_train, y_pred_train)"
      ]
    },
    {
      "cell_type": "markdown",
      "id": "bfbf4919-4f15-40b4-81ec-9c8ecff97775",
      "metadata": {
        "id": "bfbf4919-4f15-40b4-81ec-9c8ecff97775"
      },
      "source": [
        "## Observation on Trained Data\n",
        "- Accuracy is 82%\n",
        "- Recall is 62%"
      ]
    },
    {
      "cell_type": "code",
      "execution_count": null,
      "id": "88dfd0d0-3a45-4b09-86d3-341b1f4b3ead",
      "metadata": {
        "colab": {
          "base_uri": "https://localhost:8080/",
          "height": 629
        },
        "id": "88dfd0d0-3a45-4b09-86d3-341b1f4b3ead",
        "outputId": "f4aec155-7fdb-46e1-fd40-c1dc4ee6c004"
      },
      "outputs": [
        {
          "name": "stdout",
          "output_type": "stream",
          "text": [
            "              precision    recall  f1-score   support\n",
            "\n",
            "           0       0.85      0.92      0.88       971\n",
            "           1       0.76      0.61      0.67       413\n",
            "\n",
            "    accuracy                           0.82      1384\n",
            "   macro avg       0.80      0.76      0.78      1384\n",
            "weighted avg       0.82      0.82      0.82      1384\n",
            "\n"
          ]
        },
        {
          "data": {
            "image/png": "[encoded data removed]",
            "text/plain": [
              "<Figure size 576x360 with 2 Axes>"
            ]
          },
          "metadata": {
            "needs_background": "light"
          },
          "output_type": "display_data"
        }
      ],
      "source": [
        "# Checking the performance on the test dataset\n",
        "y_pred_test = lg.predict(X_test)\n",
        "metrics_score(y_test, y_pred_test)"
      ]
    },
    {
      "cell_type": "markdown",
      "id": "71e0fbfa-9431-4981-8663-3199651259a4",
      "metadata": {
        "id": "71e0fbfa-9431-4981-8663-3199651259a4"
      },
      "source": [
        "## Observation on the test data\n",
        "- Accuracy is 82%\n",
        "- Recall is 61%"
      ]
    },
    {
      "cell_type": "markdown",
      "id": "b131de6e-486c-4814-a45c-7998eca1beb8",
      "metadata": {
        "id": "b131de6e-486c-4814-a45c-7998eca1beb8"
      },
      "source": [
        "### Observation\n",
        "\n",
        "Basing on the train data and test data on linear regression, it show that the model is generalizing well and it is not overfitting"
      ]
    },
    {
      "cell_type": "markdown",
      "id": "4f0e69a3-ad61-4da1-b364-5f0623366623",
      "metadata": {
        "id": "4f0e69a3-ad61-4da1-b364-5f0623366623"
      },
      "source": [
        "### Decision Tree Model"
      ]
    },
    {
      "cell_type": "markdown",
      "id": "amazing-fluid",
      "metadata": {
        "id": "amazing-fluid"
      },
      "source": [
        "## Building a Decision Tree model"
      ]
    },
    {
      "cell_type": "code",
      "execution_count": null,
      "id": "10b6a139-5154-4680-b8bb-2a22baae7647",
      "metadata": {
        "colab": {
          "base_uri": "https://localhost:8080/",
          "height": 75
        },
        "id": "10b6a139-5154-4680-b8bb-2a22baae7647",
        "outputId": "4c1be8bb-7d75-4b73-ff85-c548ef66dfee"
      },
      "outputs": [
        {
          "data": {
            "text/plain": [
              "DecisionTreeClassifier(random_state=1)"
            ]
          },
          "execution_count": 52,
          "metadata": {},
          "output_type": "execute_result"
        }
      ],
      "source": [
        "model_dt = DecisionTreeClassifier(random_state=1)\n",
        "model_dt.fit(X_train, y_train)"
      ]
    },
    {
      "cell_type": "code",
      "execution_count": null,
      "id": "ae9be0ac-5807-4f0b-a284-41f89596c680",
      "metadata": {
        "colab": {
          "base_uri": "https://localhost:8080/",
          "height": 629
        },
        "id": "ae9be0ac-5807-4f0b-a284-41f89596c680",
        "outputId": "82a36596-5546-405a-d503-231cebc9456c"
      },
      "outputs": [
        {
          "name": "stdout",
          "output_type": "stream",
          "text": [
            "              precision    recall  f1-score   support\n",
            "\n",
            "           0       1.00      1.00      1.00      2264\n",
            "           1       1.00      1.00      1.00       964\n",
            "\n",
            "    accuracy                           1.00      3228\n",
            "   macro avg       1.00      1.00      1.00      3228\n",
            "weighted avg       1.00      1.00      1.00      3228\n",
            "\n"
          ]
        },
        {
          "data": {
            "image/png": "[encoded data removed]",
            "text/plain": [
              "<Figure size 576x360 with 2 Axes>"
            ]
          },
          "metadata": {
            "needs_background": "light"
          },
          "output_type": "display_data"
        }
      ],
      "source": [
        " # Checking performance on the training dataset\n",
        "pred_train_dt = model_dt.predict(X_train)\n",
        "metrics_score(y_train, pred_train_dt)"
      ]
    },
    {
      "cell_type": "code",
      "execution_count": null,
      "id": "80ca7672-e187-4efb-b8db-6b9b35d2682c",
      "metadata": {
        "colab": {
          "base_uri": "https://localhost:8080/",
          "height": 629
        },
        "id": "80ca7672-e187-4efb-b8db-6b9b35d2682c",
        "outputId": "11b956cc-a45e-4fb8-edac-ad988dfccdeb"
      },
      "outputs": [
        {
          "name": "stdout",
          "output_type": "stream",
          "text": [
            "              precision    recall  f1-score   support\n",
            "\n",
            "           0       0.86      0.87      0.86       971\n",
            "           1       0.68      0.67      0.68       413\n",
            "\n",
            "    accuracy                           0.81      1384\n",
            "   macro avg       0.77      0.77      0.77      1384\n",
            "weighted avg       0.81      0.81      0.81      1384\n",
            "\n"
          ]
        },
        {
          "data": {
            "image/png": "[encoded data removed]",
            "text/plain": [
              "<Figure size 576x360 with 2 Axes>"
            ]
          },
          "metadata": {
            "needs_background": "light"
          },
          "output_type": "display_data"
        }
      ],
      "source": [
        "pred_test_dt = model_dt.predict(X_test)\n",
        "metrics_score(y_test, pred_test_dt)"
      ]
    },
    {
      "cell_type": "markdown",
      "id": "df13bd23-e886-4375-b36c-8cbb7566cbd2",
      "metadata": {
        "id": "df13bd23-e886-4375-b36c-8cbb7566cbd2"
      },
      "source": [
        "### Observation\n",
        "\n",
        "It suggest that there is a potential of the decision tree is overfitting, further steps needs to be taken to address the unseen issue"
      ]
    },
    {
      "cell_type": "markdown",
      "id": "4775ff6e-e703-4e0f-8ec2-e9757a17d989",
      "metadata": {
        "id": "4775ff6e-e703-4e0f-8ec2-e9757a17d989"
      },
      "source": [
        " ### Observation\n",
        " ** Perform hyperparameter tuning for the decision tree model using GridSearch CV **"
      ]
    },
    {
      "cell_type": "markdown",
      "id": "limited-strengthening",
      "metadata": {
        "id": "limited-strengthening"
      },
      "source": [
        "## Do we need to prune the tree?"
      ]
    },
    {
      "cell_type": "code",
      "execution_count": null,
      "id": "c58115f2-1509-42ad-97c7-e5584e2ff4ad",
      "metadata": {
        "colab": {
          "base_uri": "https://localhost:8080/",
          "height": 92
        },
        "id": "c58115f2-1509-42ad-97c7-e5584e2ff4ad",
        "outputId": "101927df-7a08-48e1-d850-f1e9e82b421a"
      },
      "outputs": [
        {
          "data": {
            "text/plain": [
              "DecisionTreeClassifier(max_depth=11, max_leaf_nodes=50, min_samples_split=10,\n",
              "                       random_state=1)"
            ]
          },
          "execution_count": 55,
          "metadata": {},
          "output_type": "execute_result"
        }
      ],
      "source": [
        "# Choose the type of classifier.\n",
        "estimator = DecisionTreeClassifier(random_state=1)\n",
        "\n",
        "# Grid of parameters to choose from\n",
        "parameters = {\n",
        "    \"max_depth\": np.arange(1,100,10),\n",
        "    \"max_leaf_nodes\": [50, 75, 150, 250],\n",
        "    \"min_samples_split\": [10, 30, 50, 70],\n",
        "}\n",
        "# Run the grid search\n",
        "grid_obj = GridSearchCV(estimator, parameters, cv=5,scoring='recall',n_jobs=-1)\n",
        "grid_obj = grid_obj.fit(X_train, y_train)\n",
        "\n",
        "# Set the clf to the best combination of parameters\n",
        "estimator = grid_obj.best_estimator_\n",
        "\n",
        "# Fit the best algorithm to the data.\n",
        "estimator.fit(X_train, y_train)"
      ]
    },
    {
      "cell_type": "code",
      "execution_count": null,
      "id": "bb6ff89a-6cc7-4800-b908-fd217d1023d5",
      "metadata": {
        "colab": {
          "base_uri": "https://localhost:8080/",
          "height": 629
        },
        "id": "bb6ff89a-6cc7-4800-b908-fd217d1023d5",
        "outputId": "871bcc55-853b-431d-8a6a-f6741824abea"
      },
      "outputs": [
        {
          "name": "stdout",
          "output_type": "stream",
          "text": [
            "              precision    recall  f1-score   support\n",
            "\n",
            "           0       0.93      0.92      0.92      2264\n",
            "           1       0.81      0.83      0.82       964\n",
            "\n",
            "    accuracy                           0.89      3228\n",
            "   macro avg       0.87      0.88      0.87      3228\n",
            "weighted avg       0.89      0.89      0.89      3228\n",
            "\n"
          ]
        },
        {
          "data": {
            "image/png": "[encoded data removed]",
            "text/plain": [
              "<Figure size 576x360 with 2 Axes>"
            ]
          },
          "metadata": {
            "needs_background": "light"
          },
          "output_type": "display_data"
        }
      ],
      "source": [
        "# Checking performance on the training dataset\n",
        "dt_tuned = estimator.predict(X_train)\n",
        "metrics_score(y_train,dt_tuned)"
      ]
    },
    {
      "cell_type": "code",
      "execution_count": null,
      "id": "5d95c704-04b7-4aac-93d7-23b6598ccd29",
      "metadata": {
        "colab": {
          "base_uri": "https://localhost:8080/",
          "height": 629
        },
        "id": "5d95c704-04b7-4aac-93d7-23b6598ccd29",
        "outputId": "f572d00f-56dd-49ef-c9ed-bbb6e298a812"
      },
      "outputs": [
        {
          "name": "stdout",
          "output_type": "stream",
          "text": [
            "              precision    recall  f1-score   support\n",
            "\n",
            "           0       0.90      0.89      0.90       971\n",
            "           1       0.75      0.77      0.76       413\n",
            "\n",
            "    accuracy                           0.85      1384\n",
            "   macro avg       0.82      0.83      0.83      1384\n",
            "weighted avg       0.85      0.85      0.85      1384\n",
            "\n"
          ]
        },
        {
          "data": {
            "image/png": "[encoded data removed]",
            "text/plain": [
              "<Figure size 576x360 with 2 Axes>"
            ]
          },
          "metadata": {
            "needs_background": "light"
          },
          "output_type": "display_data"
        }
      ],
      "source": [
        "# Checking performance on the test dataset\n",
        "y_pred_tuned = estimator.predict(X_test)\n",
        "metrics_score(y_test,y_pred_tuned)"
      ]
    },
    {
      "cell_type": "markdown",
      "id": "ef23b474-9fe2-404e-8a68-fc0788839e7f",
      "metadata": {
        "id": "ef23b474-9fe2-404e-8a68-fc0788839e7f"
      },
      "source": [
        "## Observation\n",
        "- After pruning, the outcome on the trained data and test data on the accuracy is about close to each other in the range of 80%\n"
      ]
    },
    {
      "cell_type": "markdown",
      "id": "12fa5a0d-1e3e-4ac9-85ec-f83fd0b7ec78",
      "metadata": {
        "id": "12fa5a0d-1e3e-4ac9-85ec-f83fd0b7ec78"
      },
      "source": [
        "## To plot the tree"
      ]
    },
    {
      "cell_type": "code",
      "execution_count": null,
      "id": "fa42cfcc-119d-4d88-8eda-fff27ff91c22",
      "metadata": {
        "colab": {
          "base_uri": "https://localhost:8080/",
          "height": 476
        },
        "id": "fa42cfcc-119d-4d88-8eda-fff27ff91c22",
        "outputId": "e6ad3945-10e8-4343-b558-111a498eee10"
      },
      "outputs": [
        {
          "data": {
            "image/png": "[encoded data removed]",
            "text/plain": [
              "<Figure size 1080x576 with 1 Axes>"
            ]
          },
          "metadata": {
            "needs_background": "light"
          },
          "output_type": "display_data"
        }
      ],
      "source": [
        "feature_names = list(X_train.columns)\n",
        "plt.figure(figsize=(15, 8))\n",
        "out = tree.plot_tree(\n",
        "    estimator,\n",
        "    max_depth=5,\n",
        "    feature_names=feature_names,\n",
        "    filled=True,\n",
        "    fontsize=6,\n",
        "    node_ids=False,\n",
        "    class_names=None,\n",
        ")\n",
        "# below code will add arrows to the decision tree split if they are missing\n",
        "for o in out:\n",
        "    arrow = o.arrow_patch\n",
        "    if arrow is not None:\n",
        "        arrow.set_edgecolor(\"black\")\n",
        "        arrow.set_linewidth(1)\n",
        "plt.show()"
      ]
    },
    {
      "cell_type": "markdown",
      "id": "2513628f-6f95-4c2d-aecc-0dc46d9a07d1",
      "metadata": {
        "id": "2513628f-6f95-4c2d-aecc-0dc46d9a07d1"
      },
      "source": [
        "## to show some of the importance features"
      ]
    },
    {
      "cell_type": "code",
      "execution_count": null,
      "id": "684a1a0b-f658-45c2-96d3-719f72e4b67a",
      "metadata": {
        "colab": {
          "base_uri": "https://localhost:8080/",
          "height": 727
        },
        "id": "684a1a0b-f658-45c2-96d3-719f72e4b67a",
        "outputId": "8624f148-13c2-4a95-a417-59155a425611"
      },
      "outputs": [
        {
          "data": {
            "image/png": "[encoded data removed]",
            "text/plain": [
              "<Figure size 576x576 with 1 Axes>"
            ]
          },
          "metadata": {
            "needs_background": "light"
          },
          "output_type": "display_data"
        }
      ],
      "source": [
        "# Importance of features in the tree building\n",
        "importances = estimator.feature_importances_\n",
        "indices = np.argsort(importances)\n",
        "\n",
        "plt.figure(figsize=(8, 8))\n",
        "plt.title(\"Feature Importances\")\n",
        "plt.barh(range(len(indices)), importances[indices], color=\"violet\", align=\"center\")\n",
        "plt.yticks(range(len(indices)), [feature_names[i] for i in indices])\n",
        "plt.xlabel(\"Relative Importance\")\n",
        "plt.show()"
      ]
    },
    {
      "cell_type": "markdown",
      "id": "9c82a2da-f40e-4463-85ef-2e7ec23589c0",
      "metadata": {
        "id": "9c82a2da-f40e-4463-85ef-2e7ec23589c0"
      },
      "source": [
        "### Observation\n",
        "The time spent on the website, first interaction and the medium completed profile has great importance features to convert to the paid customers"
      ]
    },
    {
      "cell_type": "markdown",
      "id": "9fbbcf04-d972-4887-bc00-b8cfc29f5c3d",
      "metadata": {
        "id": "9fbbcf04-d972-4887-bc00-b8cfc29f5c3d"
      },
      "source": [
        "### Random Forest Tree"
      ]
    },
    {
      "cell_type": "markdown",
      "id": "a8c47c07",
      "metadata": {
        "id": "a8c47c07"
      },
      "source": [
        "## Building a Random Forest model"
      ]
    },
    {
      "cell_type": "code",
      "execution_count": null,
      "id": "678ee15c-f397-4938-9357-0ecf8c76faae",
      "metadata": {
        "colab": {
          "base_uri": "https://localhost:8080/",
          "height": 75
        },
        "id": "678ee15c-f397-4938-9357-0ecf8c76faae",
        "outputId": "615a1ee7-1046-434e-ec5a-5efe9d117f51"
      },
      "outputs": [
        {
          "data": {
            "text/plain": [
              "RandomForestClassifier(random_state=1)"
            ]
          },
          "execution_count": 128,
          "metadata": {},
          "output_type": "execute_result"
        }
      ],
      "source": [
        "rf_estimator = RandomForestClassifier( random_state = 1)\n",
        "\n",
        "rf_estimator.fit(X_train, y_train)"
      ]
    },
    {
      "cell_type": "code",
      "execution_count": null,
      "id": "a518995a-ca02-4cf9-b301-bc6ed90f3da7",
      "metadata": {
        "colab": {
          "base_uri": "https://localhost:8080/",
          "height": 629
        },
        "id": "a518995a-ca02-4cf9-b301-bc6ed90f3da7",
        "outputId": "d2803355-6ebb-4de7-d7c8-2b02be485124"
      },
      "outputs": [
        {
          "name": "stdout",
          "output_type": "stream",
          "text": [
            "              precision    recall  f1-score   support\n",
            "\n",
            "           0       1.00      1.00      1.00      2264\n",
            "           1       1.00      1.00      1.00       964\n",
            "\n",
            "    accuracy                           1.00      3228\n",
            "   macro avg       1.00      1.00      1.00      3228\n",
            "weighted avg       1.00      1.00      1.00      3228\n",
            "\n"
          ]
        },
        {
          "data": {
            "image/png": "[encoded data removed]",
            "text/plain": [
              "<Figure size 576x360 with 2 Axes>"
            ]
          },
          "metadata": {
            "needs_background": "light"
          },
          "output_type": "display_data"
        }
      ],
      "source": [
        "y_pred_train_rf = rf_estimator.predict(X_train)\n",
        "\n",
        "metrics_score(y_train, y_pred_train_rf)"
      ]
    },
    {
      "cell_type": "code",
      "execution_count": null,
      "id": "67f68477-6a23-4383-91c9-8dd5ee7ab0cf",
      "metadata": {
        "colab": {
          "base_uri": "https://localhost:8080/",
          "height": 75
        },
        "id": "67f68477-6a23-4383-91c9-8dd5ee7ab0cf",
        "outputId": "615a1ee7-1046-434e-ec5a-5efe9d117f51"
      },
      "outputs": [
        {
          "data": {
            "text/plain": [
              "RandomForestClassifier(random_state=1)"
            ]
          },
          "execution_count": 130,
          "metadata": {},
          "output_type": "execute_result"
        }
      ],
      "source": [
        "rf_estimator = RandomForestClassifier( random_state = 1)\n",
        "\n",
        "rf_estimator.fit(X_train, y_train)"
      ]
    },
    {
      "cell_type": "code",
      "execution_count": null,
      "id": "ba317f77-56fa-47c6-a36d-59edd0cdea49",
      "metadata": {
        "colab": {
          "base_uri": "https://localhost:8080/",
          "height": 629
        },
        "id": "ba317f77-56fa-47c6-a36d-59edd0cdea49",
        "outputId": "926769e8-dd4f-45ec-ab99-49661095f351"
      },
      "outputs": [
        {
          "name": "stdout",
          "output_type": "stream",
          "text": [
            "              precision    recall  f1-score   support\n",
            "\n",
            "           0       0.89      0.91      0.90       971\n",
            "           1       0.78      0.73      0.76       413\n",
            "\n",
            "    accuracy                           0.86      1384\n",
            "   macro avg       0.83      0.82      0.83      1384\n",
            "weighted avg       0.86      0.86      0.86      1384\n",
            "\n"
          ]
        },
        {
          "data": {
            "image/png": "[encoded data removed]",
            "text/plain": [
              "<Figure size 576x360 with 2 Axes>"
            ]
          },
          "metadata": {
            "needs_background": "light"
          },
          "output_type": "display_data"
        }
      ],
      "source": [
        "y_pred_test_rf = rf_estimator.predict(X_test)\n",
        "\n",
        "metrics_score(y_test, y_pred_test_rf)"
      ]
    },
    {
      "cell_type": "markdown",
      "id": "11bc14ca",
      "metadata": {
        "id": "11bc14ca"
      },
      "source": [
        "## Do we need to prune the tree?"
      ]
    },
    {
      "cell_type": "markdown",
      "id": "7c43a7d0-70a8-41a7-91d4-e0570e9e0454",
      "metadata": {
        "id": "7c43a7d0-70a8-41a7-91d4-e0570e9e0454"
      },
      "source": [
        "No,we do not required pruning of the trees as random forest does have any techniques to overcome overfitting and improve generalization"
      ]
    },
    {
      "cell_type": "markdown",
      "id": "ed6d4d24-74e7-42b7-a8bc-88899bf4a78b",
      "metadata": {
        "id": "ed6d4d24-74e7-42b7-a8bc-88899bf4a78b"
      },
      "source": [
        "## Importance features"
      ]
    },
    {
      "cell_type": "code",
      "execution_count": null,
      "id": "7b8b2fe0-fe67-4353-8517-a4f884f57ea0",
      "metadata": {
        "colab": {
          "base_uri": "https://localhost:8080/",
          "height": 744
        },
        "id": "7b8b2fe0-fe67-4353-8517-a4f884f57ea0",
        "outputId": "5905dd25-c6f3-47ce-dcaf-895bb5ead3d2"
      },
      "outputs": [
        {
          "data": {
            "text/plain": [
              "<AxesSubplot:title={'center':'Feature Importances'}, xlabel='Importance'>"
            ]
          },
          "execution_count": 132,
          "metadata": {},
          "output_type": "execute_result"
        },
        {
          "data": {
            "image/png": "[encoded data removed]",
            "text/plain": [
              "<Figure size 576x576 with 1 Axes>"
            ]
          },
          "metadata": {
            "needs_background": "light"
          },
          "output_type": "display_data"
        }
      ],
      "source": [
        "importances = rf_estimator.feature_importances_\n",
        "\n",
        "columns = X_train.columns\n",
        "\n",
        "importance_df = pd.DataFrame(importances, index = columns, columns = ['Importance']).sort_values(by = 'Importance', ascending = False)\n",
        "\n",
        "\n",
        "plt.figure(figsize=(8, 8))\n",
        "plt.title(\"Feature Importances\")\n",
        "sns.barplot(x = importance_df.Importance, y = importance_df.index, color=\"violet\")"
      ]
    },
    {
      "cell_type": "markdown",
      "id": "nasty-retailer",
      "metadata": {
        "id": "nasty-retailer"
      },
      "source": [
        "## Actionable Insights and Recommendations"
      ]
    },
    {
      "cell_type": "markdown",
      "id": "ff5fb260-1342-4d94-97f8-45eb32c9e0fa",
      "metadata": {
        "id": "ff5fb260-1342-4d94-97f8-45eb32c9e0fa"
      },
      "source": [
        "**Observations:**\n",
        "- **Time spent on the website and first_interaction_website are the most important features** **followed by profile_completed, age, and last_activity**.\n",
        "- **The rest of the variables have no impact in this model, while deciding whether a lead will be converted or not**.\n",
        "\n",
        "Now, let's build another model - **a random forest classifier.**"
      ]
    },
    {
      "cell_type": "markdown",
      "id": "bc0ba463-2d45-4e64-85aa-a443a39431da",
      "metadata": {
        "id": "bc0ba463-2d45-4e64-85aa-a443a39431da"
      },
      "source": [
        "**One of the drawbacks of ensemble models is that we lose the ability to obtain an interpretation of the model. We cannot observe the decision rules for random forests the way we did for decision trees. So, let's just check the feature importance of the model.**"
      ]
    },
    {
      "cell_type": "markdown",
      "id": "82e7a2b6-1d14-452d-9a5b-68737ed0a2a6",
      "metadata": {
        "id": "82e7a2b6-1d14-452d-9a5b-68737ed0a2a6"
      },
      "source": [
        "\n",
        "### Observation\n",
        "- Similar to the decision tree model, **time spent on website, first_interaction_website, profile_completed, and age are the top four features** that help distinguish between not converted and converted leads.\n",
        "- Unlike the decision tree, **the random forest gives some importance to other variables like occupation, page_views_per_visit, as well.** This implies that the random forest is giving importance to more factors in comparison to the decision tree."
      ]
    }
  ],
  "metadata": {
    "colab": {
      "provenance": []
    },
    "kernelspec": {
      "display_name": "anaconda-2022.05-py39",
      "language": "python",
      "name": "conda-env-anaconda-2022.05-py39-py"
    },
    "language_info": {
      "codemirror_mode": {
        "name": "ipython",
        "version": 3
      },
      "file_extension": ".py",
      "mimetype": "text/x-python",
      "name": "python",
      "nbconvert_exporter": "python",
      "pygments_lexer": "ipython3",
      "version": "3.9.12"
    },
    "toc-showtags": false
  },
  "nbformat": 4,
  "nbformat_minor": 5
}